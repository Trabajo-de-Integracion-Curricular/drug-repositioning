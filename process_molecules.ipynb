{
 "cells": [
  {
   "cell_type": "markdown",
   "metadata": {},
   "source": [
    "# Molecule processing\n",
    "**In this notebook, the processing of the molecules will be carried out in order to obtain a\n",
    "similarity table of all the molecules belonging to the chosen data set.**\n"
   ]
  },
  {
   "cell_type": "markdown",
   "source": [
    "## Import Libraries"
   ],
   "metadata": {
    "collapsed": false,
    "pycharm": {
     "name": "#%% md\n"
    }
   }
  },
  {
   "cell_type": "code",
   "execution_count": 1,
   "metadata": {},
   "outputs": [],
   "source": [
    "import pandas as pd\n",
    "import numpy as np\n",
    "import sys\n",
    "import threading\n",
    "import os\n",
    "\n",
    "from io import StringIO\n",
    "from drugSimilarityTable import SimilarityTable\n",
    "from rdkit import Chem, DataStructs\n",
    "from rdkit.Chem import AllChem"
   ]
  },
  {
   "cell_type": "markdown",
   "metadata": {},
   "source": [
    "## Load the CSV File\n",
    "Read the complete file that will be used to perform the similarity comparisons"
   ]
  },
  {
   "cell_type": "code",
   "execution_count": 2,
   "metadata": {
    "collapsed": false,
    "pycharm": {
     "name": "#%%\n"
    }
   },
   "outputs": [],
   "source": [
    "path_similarities = 'sanitize_smiles.csv'\n",
    "columns_to_process = ['sanitize-id', 'smiles']\n",
    "data_types_dictionary = {\n",
    "    'sanitize-id': 'int',\n",
    "    'smiles': 'str'\n",
    "}"
   ]
  },
  {
   "cell_type": "code",
   "execution_count": 3,
   "outputs": [
    {
     "data": {
      "text/plain": "       sanitize-id                                             smiles\n0                0       Cc1cc(-n2ncc(=O)[nH]c2=O)ccc1C(=O)c1ccccc1Cl\n1                1    Cc1cc(-n2ncc(=O)[nH]c2=O)ccc1C(=O)c1ccc(C#N)cc1\n2                2   Cc1cc(-n2ncc(=O)[nH]c2=O)cc(C)c1C(O)c1ccc(Cl)cc1\n3                3       Cc1ccc(C(=O)c2ccc(-n3ncc(=O)[nH]c3=O)cc2)cc1\n4                4     Cc1cc(-n2ncc(=O)[nH]c2=O)ccc1C(=O)c1ccc(Cl)cc1\n...            ...                                                ...\n19995        19995                    CC(Cc1cccc2ccccc12)NCCCc1ccccc1\n19996        19996  CC(C)C[C@H](NC(=O)[C@@H](S)Cc1ccccc1)C(=O)N[C@...\n19997        19997                Nc1nc(Cl)c2ncn(C3CC(CO)C(O)C3O)c2n1\n19998        19998  COCCOCO[C@H](NC(=O)C(F)(F)C(=O)C(Cc1ccc(OCc2cc...\n19999        19999          Cn1cc(NC(=O)c2cc(N)cn2C)cc1C(=O)NCCC(=N)N\n\n[20000 rows x 2 columns]",
      "text/html": "<div>\n<style scoped>\n    .dataframe tbody tr th:only-of-type {\n        vertical-align: middle;\n    }\n\n    .dataframe tbody tr th {\n        vertical-align: top;\n    }\n\n    .dataframe thead th {\n        text-align: right;\n    }\n</style>\n<table border=\"1\" class=\"dataframe\">\n  <thead>\n    <tr style=\"text-align: right;\">\n      <th></th>\n      <th>sanitize-id</th>\n      <th>smiles</th>\n    </tr>\n  </thead>\n  <tbody>\n    <tr>\n      <th>0</th>\n      <td>0</td>\n      <td>Cc1cc(-n2ncc(=O)[nH]c2=O)ccc1C(=O)c1ccccc1Cl</td>\n    </tr>\n    <tr>\n      <th>1</th>\n      <td>1</td>\n      <td>Cc1cc(-n2ncc(=O)[nH]c2=O)ccc1C(=O)c1ccc(C#N)cc1</td>\n    </tr>\n    <tr>\n      <th>2</th>\n      <td>2</td>\n      <td>Cc1cc(-n2ncc(=O)[nH]c2=O)cc(C)c1C(O)c1ccc(Cl)cc1</td>\n    </tr>\n    <tr>\n      <th>3</th>\n      <td>3</td>\n      <td>Cc1ccc(C(=O)c2ccc(-n3ncc(=O)[nH]c3=O)cc2)cc1</td>\n    </tr>\n    <tr>\n      <th>4</th>\n      <td>4</td>\n      <td>Cc1cc(-n2ncc(=O)[nH]c2=O)ccc1C(=O)c1ccc(Cl)cc1</td>\n    </tr>\n    <tr>\n      <th>...</th>\n      <td>...</td>\n      <td>...</td>\n    </tr>\n    <tr>\n      <th>19995</th>\n      <td>19995</td>\n      <td>CC(Cc1cccc2ccccc12)NCCCc1ccccc1</td>\n    </tr>\n    <tr>\n      <th>19996</th>\n      <td>19996</td>\n      <td>CC(C)C[C@H](NC(=O)[C@@H](S)Cc1ccccc1)C(=O)N[C@...</td>\n    </tr>\n    <tr>\n      <th>19997</th>\n      <td>19997</td>\n      <td>Nc1nc(Cl)c2ncn(C3CC(CO)C(O)C3O)c2n1</td>\n    </tr>\n    <tr>\n      <th>19998</th>\n      <td>19998</td>\n      <td>COCCOCO[C@H](NC(=O)C(F)(F)C(=O)C(Cc1ccc(OCc2cc...</td>\n    </tr>\n    <tr>\n      <th>19999</th>\n      <td>19999</td>\n      <td>Cn1cc(NC(=O)c2cc(N)cn2C)cc1C(=O)NCCC(=N)N</td>\n    </tr>\n  </tbody>\n</table>\n<p>20000 rows × 2 columns</p>\n</div>"
     },
     "execution_count": 3,
     "metadata": {},
     "output_type": "execute_result"
    }
   ],
   "source": [
    "drugs_csv = pd.read_csv(path_similarities, usecols=columns_to_process, dtype=data_types_dictionary, sep=';')\n",
    "drugs_csv"
   ],
   "metadata": {
    "collapsed": false,
    "pycharm": {
     "name": "#%%\n"
    }
   }
  },
  {
   "cell_type": "markdown",
   "source": [
    "### Handling errors from RDKit\n",
    "Wrap the internal RDKit streams, so they go to python’s SysStdErr\n",
    "Activate the SysStdErr output to catch the outputs from the RDkit operations"
   ],
   "metadata": {
    "collapsed": false
   }
  },
  {
   "cell_type": "code",
   "execution_count": 4,
   "outputs": [],
   "source": [
    "Chem.WrapLogs()\n",
    "sio = sys.stderr = StringIO()\n",
    "failures = []"
   ],
   "metadata": {
    "collapsed": false,
    "pycharm": {
     "name": "#%%\n"
    }
   }
  },
  {
   "cell_type": "markdown",
   "metadata": {},
   "source": [
    "## Data analysis"
   ]
  },
  {
   "cell_type": "markdown",
   "metadata": {},
   "source": [
    "The null values ​​of all the data are verified, there would exist errors if any of the smiles values ​​of the compounds is null"
   ]
  },
  {
   "cell_type": "code",
   "execution_count": 5,
   "metadata": {
    "collapsed": false,
    "pycharm": {
     "name": "#%%\n"
    }
   },
   "outputs": [
    {
     "data": {
      "text/plain": "sanitize-id    0\nsmiles         0\ndtype: int64"
     },
     "execution_count": 5,
     "metadata": {},
     "output_type": "execute_result"
    }
   ],
   "source": [
    "drugs_csv.isnull().sum()"
   ]
  },
  {
   "cell_type": "markdown",
   "metadata": {},
   "source": [
    "The type of data and the names of the tables are also verified.\n"
   ]
  },
  {
   "cell_type": "code",
   "execution_count": 6,
   "metadata": {
    "collapsed": false,
    "pycharm": {
     "name": "#%%\n"
    }
   },
   "outputs": [
    {
     "name": "stdout",
     "output_type": "stream",
     "text": [
      "<class 'pandas.core.frame.DataFrame'>\n",
      "RangeIndex: 20000 entries, 0 to 19999\n",
      "Data columns (total 2 columns):\n",
      " #   Column       Non-Null Count  Dtype \n",
      "---  ------       --------------  ----- \n",
      " 0   sanitize-id  20000 non-null  int64 \n",
      " 1   smiles       20000 non-null  object\n",
      "dtypes: int64(1), object(1)\n",
      "memory usage: 312.6+ KB\n"
     ]
    }
   ],
   "source": [
    "drugs_csv.info()"
   ]
  },
  {
   "cell_type": "markdown",
   "metadata": {},
   "source": [
    "## Calculation of the similarity table\n",
    "This similarity table consists of the comparison of a molecule with all the rest of the molecules\n",
    "that belong to the database, with the aim of obtaining the top of molecules that contain the most\n",
    "similarity with that molecule."
   ]
  },
  {
   "cell_type": "markdown",
   "source": [
    "### Chunk division\n",
    "Split the main file into chunks to facilitate further processing through threads."
   ],
   "metadata": {
    "collapsed": false
   }
  },
  {
   "cell_type": "code",
   "execution_count": 7,
   "outputs": [],
   "source": [
    "numThreads = 4\n",
    "chunks_directory = 'sanitize_chunks'\n",
    "chunk_size = 1000\n",
    "path_creation_chunks = 'sanitize_chunks/chunk{}.csv'"
   ],
   "metadata": {
    "collapsed": false,
    "pycharm": {
     "name": "#%%\n"
    }
   }
  },
  {
   "cell_type": "code",
   "execution_count": 8,
   "outputs": [],
   "source": [
    "for i, chunk in enumerate(\n",
    "        pd.read_csv(path_similarities, usecols=columns_to_process, dtype=data_types_dictionary, sep=';',\n",
    "                    chunksize=chunk_size)):\n",
    "    chunk.to_csv(path_creation_chunks.format(i), index=False, sep=';')"
   ],
   "metadata": {
    "collapsed": false,
    "pycharm": {
     "name": "#%%\n"
    }
   }
  },
  {
   "cell_type": "markdown",
   "source": [
    "### Parallel processing\n",
    "Define the function to be executed by each thread within the parallel processing of the database chunks"
   ],
   "metadata": {
    "collapsed": false
   }
  },
  {
   "cell_type": "markdown",
   "source": [
    "To achieve the processing we must follow the following process:\n",
    "1. First, the value of the molecules is obtained from their \"SMILES\" found in the database.\n",
    "2. Then it is necessary to calculate the \"fingerprints\" of those molecules.\n",
    "3. Finally, it is necessary to calculate the similarity between the molecules using their fingerprints."
   ],
   "metadata": {
    "collapsed": false
   }
  },
  {
   "cell_type": "code",
   "execution_count": 9,
   "outputs": [],
   "source": [
    "def processChunkFiles(files, radius):\n",
    "    for file in files:\n",
    "        chunk_sanitize_csv = pd.read_csv(chunks_directory + '/' + file, usecols=columns_to_process,\n",
    "                                         dtype=data_types_dictionary, sep=';')\n",
    "\n",
    "        for drug in chunk_sanitize_csv.to_dict('records'):\n",
    "            drug_id = drug['sanitize-id']\n",
    "            drug_smiles = drug['smiles']\n",
    "\n",
    "            drug_similarity_table = SimilarityTable(drug_id)\n",
    "            drug_molecule = Chem.MolFromSmiles(drug_smiles)\n",
    "\n",
    "            if drug_molecule is None:\n",
    "                failures.append(drug_id, sio.getvalue())\n",
    "                sio = stderr = StringIO()\n",
    "                continue\n",
    "            else:\n",
    "                drug_fingerprint = AllChem.GetMorganFingerprint(drug_molecule, radius)\n",
    "\n",
    "                for drug_to_test in drugs_csv.to_dict('records'):\n",
    "                    drug_to_test_id = drug_to_test['sanitize-id']\n",
    "\n",
    "                    if drug_to_test_id != drug_id:\n",
    "                        drug_to_test_smiles = drug_to_test['smiles']\n",
    "                        drug_to_test_molecule = Chem.MolFromSmiles(drug_to_test_smiles)\n",
    "\n",
    "                        if drug_to_test_molecule is None:\n",
    "                            continue\n",
    "                        else:\n",
    "                            drug_to_test_fingerprint = AllChem.GetMorganFingerprint(drug_to_test_molecule, radius)\n",
    "\n",
    "                            drugs_similarity = DataStructs.TanimotoSimilarity(drug_fingerprint,\n",
    "                                                                              drug_to_test_fingerprint)\n",
    "                            drug_similarity_table.add_item(drug_to_test_id, drugs_similarity)\n",
    "\n",
    "            drug_similarity_table.save_similarity_table(radius)\n"
   ],
   "metadata": {
    "collapsed": false,
    "pycharm": {
     "name": "#%%\n"
    }
   }
  },
  {
   "cell_type": "markdown",
   "source": [
    "Load the name of the chunks files to process"
   ],
   "metadata": {
    "collapsed": false
   }
  },
  {
   "cell_type": "code",
   "execution_count": 10,
   "outputs": [
    {
     "data": {
      "text/plain": "['chunk0.csv',\n 'chunk1.csv',\n 'chunk2.csv',\n 'chunk3.csv',\n 'chunk4.csv',\n 'chunk5.csv',\n 'chunk6.csv',\n 'chunk7.csv',\n 'chunk8.csv',\n 'chunk9.csv',\n 'chunk10.csv',\n 'chunk11.csv',\n 'chunk12.csv',\n 'chunk13.csv',\n 'chunk14.csv',\n 'chunk15.csv',\n 'chunk16.csv',\n 'chunk17.csv',\n 'chunk18.csv',\n 'chunk19.csv']"
     },
     "execution_count": 10,
     "metadata": {},
     "output_type": "execute_result"
    }
   ],
   "source": [
    "chunk_files = os.listdir(chunks_directory)\n",
    "chunk_files"
   ],
   "metadata": {
    "collapsed": false,
    "pycharm": {
     "name": "#%%\n"
    }
   }
  },
  {
   "cell_type": "markdown",
   "source": [
    "Split the list of files according to the number of threads to be handled in parallel processing"
   ],
   "metadata": {
    "collapsed": false
   }
  },
  {
   "cell_type": "code",
   "execution_count": 11,
   "outputs": [
    {
     "data": {
      "text/plain": "[array(['chunk0.csv', 'chunk1.csv', 'chunk2.csv', 'chunk3.csv',\n        'chunk4.csv'], dtype='<U11'),\n array(['chunk5.csv', 'chunk6.csv', 'chunk7.csv', 'chunk8.csv',\n        'chunk9.csv'], dtype='<U11'),\n array(['chunk10.csv', 'chunk11.csv', 'chunk12.csv', 'chunk13.csv',\n        'chunk14.csv'], dtype='<U11'),\n array(['chunk15.csv', 'chunk16.csv', 'chunk17.csv', 'chunk18.csv',\n        'chunk19.csv'], dtype='<U11')]"
     },
     "execution_count": 11,
     "metadata": {},
     "output_type": "execute_result"
    }
   ],
   "source": [
    "thread_files = np.array_split(chunk_files, numThreads)\n",
    "thread_files"
   ],
   "metadata": {
    "collapsed": false,
    "pycharm": {
     "name": "#%%\n"
    }
   }
  },
  {
   "cell_type": "markdown",
   "source": [
    "### Thread definition and initialization"
   ],
   "metadata": {
    "collapsed": false
   }
  },
  {
   "cell_type": "code",
   "execution_count": 12,
   "outputs": [],
   "source": [
    "threads = []\n",
    "\n",
    "for i in range(numThreads):\n",
    "    thread = threading.Thread(target=processChunkFiles, args=(thread_files[i], 2,))\n",
    "    threads.append(thread)"
   ],
   "metadata": {
    "collapsed": false,
    "pycharm": {
     "name": "#%%\n"
    }
   }
  },
  {
   "cell_type": "code",
   "execution_count": 13,
   "outputs": [],
   "source": [
    "for i in range(numThreads):\n",
    "    threads[i].start()"
   ],
   "metadata": {
    "collapsed": false,
    "pycharm": {
     "name": "#%%\n"
    }
   }
  },
  {
   "cell_type": "code",
   "execution_count": null,
   "outputs": [
    {
     "name": "stdout",
     "output_type": "stream",
     "text": [
      "Traceback (most recent call last):\n",
      "  File \"/home/jp/anaconda3/envs/my-rdkit-env/lib/python3.9/site-packages/IPython/core/interactiveshell.py\", line 3444, in run_code\n",
      "    exec(code_obj, self.user_global_ns, self.user_ns)\n",
      "  File \"/tmp/ipykernel_201659/1607152748.py\", line 2, in <module>\n",
      "    threads[i].join()\n",
      "  File \"/home/jp/anaconda3/envs/my-rdkit-env/lib/python3.9/threading.py\", line 1053, in join\n",
      "    self._wait_for_tstate_lock()\n",
      "  File \"/home/jp/anaconda3/envs/my-rdkit-env/lib/python3.9/threading.py\", line 1073, in _wait_for_tstate_lock\n",
      "    if lock.acquire(block, timeout):\n",
      "KeyboardInterrupt\n",
      "\n",
      "During handling of the above exception, another exception occurred:\n",
      "\n",
      "Traceback (most recent call last):\n",
      "  File \"/home/jp/anaconda3/envs/my-rdkit-env/lib/python3.9/site-packages/IPython/core/interactiveshell.py\", line 2064, in showtraceback\n",
      "    stb = value._render_traceback_()\n",
      "AttributeError: 'KeyboardInterrupt' object has no attribute '_render_traceback_'\n",
      "\n",
      "During handling of the above exception, another exception occurred:\n",
      "\n",
      "Traceback (most recent call last):\n",
      "  File \"/home/jp/anaconda3/envs/my-rdkit-env/lib/python3.9/site-packages/IPython/core/ultratb.py\", line 1101, in get_records\n",
      "    return _fixed_getinnerframes(etb, number_of_lines_of_context, tb_offset)\n",
      "  File \"/home/jp/anaconda3/envs/my-rdkit-env/lib/python3.9/site-packages/IPython/core/ultratb.py\", line 248, in wrapped\n",
      "    return f(*args, **kwargs)\n",
      "  File \"/home/jp/anaconda3/envs/my-rdkit-env/lib/python3.9/site-packages/IPython/core/ultratb.py\", line 281, in _fixed_getinnerframes\n",
      "    records = fix_frame_records_filenames(inspect.getinnerframes(etb, context))\n",
      "  File \"/home/jp/anaconda3/envs/my-rdkit-env/lib/python3.9/inspect.py\", line 1543, in getinnerframes\n",
      "    frameinfo = (tb.tb_frame,) + getframeinfo(tb, context)\n",
      "  File \"/home/jp/anaconda3/envs/my-rdkit-env/lib/python3.9/inspect.py\", line 1501, in getframeinfo\n",
      "    filename = getsourcefile(frame) or getfile(frame)\n",
      "  File \"/home/jp/anaconda3/envs/my-rdkit-env/lib/python3.9/inspect.py\", line 709, in getsourcefile\n",
      "    if getattr(getmodule(object, filename), '__loader__', None) is not None:\n",
      "  File \"/home/jp/anaconda3/envs/my-rdkit-env/lib/python3.9/inspect.py\", line 755, in getmodule\n",
      "    os.path.realpath(f)] = module.__name__\n",
      "  File \"/home/jp/anaconda3/envs/my-rdkit-env/lib/python3.9/posixpath.py\", line 392, in realpath\n",
      "    path, ok = _joinrealpath(filename[:0], filename, {})\n",
      "  File \"/home/jp/anaconda3/envs/my-rdkit-env/lib/python3.9/posixpath.py\", line 426, in _joinrealpath\n",
      "    if not islink(newpath):\n",
      "  File \"/home/jp/anaconda3/envs/my-rdkit-env/lib/python3.9/posixpath.py\", line 167, in islink\n",
      "    st = os.lstat(path)\n",
      "KeyboardInterrupt\n",
      "Traceback (most recent call last):\n",
      "  File \"/home/jp/anaconda3/envs/my-rdkit-env/lib/python3.9/site-packages/IPython/core/interactiveshell.py\", line 3444, in run_code\n",
      "    exec(code_obj, self.user_global_ns, self.user_ns)\n",
      "  File \"/tmp/ipykernel_201659/1607152748.py\", line 2, in <module>\n",
      "    threads[i].join()\n",
      "  File \"/home/jp/anaconda3/envs/my-rdkit-env/lib/python3.9/threading.py\", line 1053, in join\n",
      "    self._wait_for_tstate_lock()\n",
      "  File \"/home/jp/anaconda3/envs/my-rdkit-env/lib/python3.9/threading.py\", line 1073, in _wait_for_tstate_lock\n",
      "    if lock.acquire(block, timeout):\n",
      "KeyboardInterrupt\n",
      "\n",
      "During handling of the above exception, another exception occurred:\n",
      "\n",
      "Traceback (most recent call last):\n",
      "  File \"/home/jp/anaconda3/envs/my-rdkit-env/lib/python3.9/site-packages/IPython/core/interactiveshell.py\", line 2064, in showtraceback\n",
      "    stb = value._render_traceback_()\n",
      "AttributeError: 'KeyboardInterrupt' object has no attribute '_render_traceback_'\n",
      "\n",
      "During handling of the above exception, another exception occurred:\n",
      "\n",
      "Traceback (most recent call last):\n",
      "  File \"/home/jp/anaconda3/envs/my-rdkit-env/lib/python3.9/site-packages/IPython/core/interactiveshell.py\", line 3364, in run_ast_nodes\n",
      "    if (await self.run_code(code, result,  async_=asy)):\n",
      "  File \"/home/jp/anaconda3/envs/my-rdkit-env/lib/python3.9/site-packages/IPython/core/interactiveshell.py\", line 3461, in run_code\n",
      "    self.showtraceback(running_compiled_code=True)\n",
      "  File \"/home/jp/anaconda3/envs/my-rdkit-env/lib/python3.9/site-packages/IPython/core/interactiveshell.py\", line 2066, in showtraceback\n",
      "    stb = self.InteractiveTB.structured_traceback(etype,\n",
      "  File \"/home/jp/anaconda3/envs/my-rdkit-env/lib/python3.9/site-packages/IPython/core/ultratb.py\", line 1367, in structured_traceback\n",
      "    return FormattedTB.structured_traceback(\n",
      "  File \"/home/jp/anaconda3/envs/my-rdkit-env/lib/python3.9/site-packages/IPython/core/ultratb.py\", line 1267, in structured_traceback\n",
      "    return VerboseTB.structured_traceback(\n",
      "  File \"/home/jp/anaconda3/envs/my-rdkit-env/lib/python3.9/site-packages/IPython/core/ultratb.py\", line 1124, in structured_traceback\n",
      "    formatted_exception = self.format_exception_as_a_whole(etype, evalue, etb, number_of_lines_of_context,\n",
      "  File \"/home/jp/anaconda3/envs/my-rdkit-env/lib/python3.9/site-packages/IPython/core/ultratb.py\", line 1082, in format_exception_as_a_whole\n",
      "    last_unique, recursion_repeat = find_recursion(orig_etype, evalue, records)\n",
      "  File \"/home/jp/anaconda3/envs/my-rdkit-env/lib/python3.9/site-packages/IPython/core/ultratb.py\", line 382, in find_recursion\n",
      "    return len(records), 0\n",
      "TypeError: object of type 'NoneType' has no len()\n",
      "\n",
      "During handling of the above exception, another exception occurred:\n",
      "\n",
      "Traceback (most recent call last):\n",
      "  File \"/home/jp/anaconda3/envs/my-rdkit-env/lib/python3.9/site-packages/IPython/core/interactiveshell.py\", line 2064, in showtraceback\n",
      "    stb = value._render_traceback_()\n",
      "AttributeError: 'TypeError' object has no attribute '_render_traceback_'\n",
      "\n",
      "During handling of the above exception, another exception occurred:\n",
      "\n",
      "Traceback (most recent call last):\n",
      "  File \"/home/jp/anaconda3/envs/my-rdkit-env/lib/python3.9/site-packages/IPython/core/ultratb.py\", line 1101, in get_records\n",
      "    return _fixed_getinnerframes(etb, number_of_lines_of_context, tb_offset)\n",
      "  File \"/home/jp/anaconda3/envs/my-rdkit-env/lib/python3.9/site-packages/IPython/core/ultratb.py\", line 248, in wrapped\n",
      "    return f(*args, **kwargs)\n",
      "  File \"/home/jp/anaconda3/envs/my-rdkit-env/lib/python3.9/site-packages/IPython/core/ultratb.py\", line 281, in _fixed_getinnerframes\n",
      "    records = fix_frame_records_filenames(inspect.getinnerframes(etb, context))\n",
      "  File \"/home/jp/anaconda3/envs/my-rdkit-env/lib/python3.9/inspect.py\", line 1543, in getinnerframes\n",
      "    frameinfo = (tb.tb_frame,) + getframeinfo(tb, context)\n",
      "  File \"/home/jp/anaconda3/envs/my-rdkit-env/lib/python3.9/inspect.py\", line 1501, in getframeinfo\n",
      "    filename = getsourcefile(frame) or getfile(frame)\n",
      "  File \"/home/jp/anaconda3/envs/my-rdkit-env/lib/python3.9/inspect.py\", line 709, in getsourcefile\n",
      "    if getattr(getmodule(object, filename), '__loader__', None) is not None:\n",
      "Traceback (most recent call last):\n",
      "  File \"/home/jp/anaconda3/envs/my-rdkit-env/lib/python3.9/site-packages/IPython/core/interactiveshell.py\", line 3444, in run_code\n",
      "    exec(code_obj, self.user_global_ns, self.user_ns)\n",
      "  File \"/tmp/ipykernel_201659/1607152748.py\", line 2, in <module>\n",
      "    threads[i].join()\n",
      "  File \"/home/jp/anaconda3/envs/my-rdkit-env/lib/python3.9/threading.py\", line 1053, in join\n",
      "    self._wait_for_tstate_lock()\n",
      "  File \"/home/jp/anaconda3/envs/my-rdkit-env/lib/python3.9/threading.py\", line 1073, in _wait_for_tstate_lock\n",
      "    if lock.acquire(block, timeout):\n",
      "KeyboardInterrupt\n",
      "\n",
      "During handling of the above exception, another exception occurred:\n",
      "\n",
      "Traceback (most recent call last):\n",
      "  File \"/home/jp/anaconda3/envs/my-rdkit-env/lib/python3.9/site-packages/IPython/core/interactiveshell.py\", line 2064, in showtraceback\n",
      "    stb = value._render_traceback_()\n",
      "AttributeError: 'KeyboardInterrupt' object has no attribute '_render_traceback_'\n",
      "\n",
      "During handling of the above exception, another exception occurred:\n",
      "\n",
      "Traceback (most recent call last):\n",
      "  File \"/home/jp/anaconda3/envs/my-rdkit-env/lib/python3.9/site-packages/IPython/core/interactiveshell.py\", line 3364, in run_ast_nodes\n",
      "    if (await self.run_code(code, result,  async_=asy)):\n",
      "  File \"/home/jp/anaconda3/envs/my-rdkit-env/lib/python3.9/site-packages/IPython/core/interactiveshell.py\", line 3461, in run_code\n",
      "    self.showtraceback(running_compiled_code=True)\n",
      "  File \"/home/jp/anaconda3/envs/my-rdkit-env/lib/python3.9/site-packages/IPython/core/interactiveshell.py\", line 2066, in showtraceback\n",
      "    stb = self.InteractiveTB.structured_traceback(etype,\n",
      "  File \"/home/jp/anaconda3/envs/my-rdkit-env/lib/python3.9/site-packages/IPython/core/ultratb.py\", line 1367, in structured_traceback\n",
      "    return FormattedTB.structured_traceback(\n",
      "  File \"/home/jp/anaconda3/envs/my-rdkit-env/lib/python3.9/site-packages/IPython/core/ultratb.py\", line 1267, in structured_traceback\n",
      "    return VerboseTB.structured_traceback(\n",
      "  File \"/home/jp/anaconda3/envs/my-rdkit-env/lib/python3.9/site-packages/IPython/core/ultratb.py\", line 1124, in structured_traceback\n",
      "    formatted_exception = self.format_exception_as_a_whole(etype, evalue, etb, number_of_lines_of_context,\n",
      "  File \"/home/jp/anaconda3/envs/my-rdkit-env/lib/python3.9/site-packages/IPython/core/ultratb.py\", line 1082, in format_exception_as_a_whole\n",
      "    last_unique, recursion_repeat = find_recursion(orig_etype, evalue, records)\n",
      "  File \"/home/jp/anaconda3/envs/my-rdkit-env/lib/python3.9/site-packages/IPython/core/ultratb.py\", line 382, in find_recursion\n",
      "    return len(records), 0\n",
      "TypeError: object of type 'NoneType' has no len()\n",
      "\n",
      "During handling of the above exception, another exception occurred:\n",
      "\n",
      "Traceback (most recent call last):\n",
      "  File \"/home/jp/anaconda3/envs/my-rdkit-env/lib/python3.9/site-packages/IPython/core/interactiveshell.py\", line 2064, in showtraceback\n",
      "    stb = value._render_traceback_()\n",
      "AttributeError: 'TypeError' object has no attribute '_render_traceback_'\n",
      "\n",
      "During handling of the above exception, another exception occurred:\n",
      "\n",
      "Traceback (most recent call last):\n",
      "  File \"/home/jp/anaconda3/envs/my-rdkit-env/lib/python3.9/site-packages/IPython/core/ultratb.py\", line 1101, in get_records\n",
      "    return _fixed_getinnerframes(etb, number_of_lines_of_context, tb_offset)\n",
      "  File \"/home/jp/anaconda3/envs/my-rdkit-env/lib/python3.9/site-packages/IPython/core/ultratb.py\", line 248, in wrapped\n",
      "    return f(*args, **kwargs)\n",
      "  File \"/home/jp/anaconda3/envs/my-rdkit-env/lib/python3.9/site-packages/IPython/core/ultratb.py\", line 281, in _fixed_getinnerframes\n",
      "    records = fix_frame_records_filenames(inspect.getinnerframes(etb, context))\n",
      "  File \"/home/jp/anaconda3/envs/my-rdkit-env/lib/python3.9/inspect.py\", line 1543, in getinnerframes\n",
      "    frameinfo = (tb.tb_frame,) + getframeinfo(tb, context)\n",
      "  File \"/home/jp/anaconda3/envs/my-rdkit-env/lib/python3.9/inspect.py\", line 1501, in getframeinfo\n",
      "    filename = getsourcefile(frame) or getfile(frame)\n",
      "  File \"/home/jp/anaconda3/envs/my-rdkit-env/lib/python3.9/inspect.py\", line 709, in getsourcefile\n",
      "    if getattr(getmodule(object, filename), '__loader__', None) is not None:\n",
      "  File \"/home/jp/anaconda3/envs/my-rdkit-env/lib/python3.9/inspect.py\", line 755, in getmodule\n",
      "    os.path.realpath(f)] = module.__name__\n",
      "  File \"/home/jp/anaconda3/envs/my-rdkit-env/lib/python3.9/posixpath.py\", line 392, in realpath\n",
      "    path, ok = _joinrealpath(filename[:0], filename, {})\n",
      "  File \"/home/jp/anaconda3/envs/my-rdkit-env/lib/python3.9/posixpath.py\", line 426, in _joinrealpath\n",
      "    if not islink(newpath):\n",
      "  File \"/home/jp/anaconda3/envs/my-rdkit-env/lib/python3.9/posixpath.py\", line 167, in islink\n",
      "    st = os.lstat(path)\n",
      "KeyboardInterrupt\n",
      "\n",
      "During handling of the above exception, another exception occurred:\n",
      "\n",
      "Traceback (most recent call last):\n",
      "  File \"/home/jp/anaconda3/envs/my-rdkit-env/lib/python3.9/site-packages/IPython/core/interactiveshell.py\", line 2066, in showtraceback\n",
      "    stb = self.InteractiveTB.structured_traceback(etype,\n",
      "  File \"/home/jp/anaconda3/envs/my-rdkit-env/lib/python3.9/site-packages/IPython/core/ultratb.py\", line 1367, in structured_traceback\n",
      "    return FormattedTB.structured_traceback(\n",
      "  File \"/home/jp/anaconda3/envs/my-rdkit-env/lib/python3.9/site-packages/IPython/core/ultratb.py\", line 1267, in structured_traceback\n",
      "    return VerboseTB.structured_traceback(\n",
      "  File \"/home/jp/anaconda3/envs/my-rdkit-env/lib/python3.9/site-packages/IPython/core/ultratb.py\", line 1142, in structured_traceback\n",
      "    formatted_exceptions += self.format_exception_as_a_whole(etype, evalue, etb, lines_of_context,\n",
      "  File \"/home/jp/anaconda3/envs/my-rdkit-env/lib/python3.9/site-packages/IPython/core/ultratb.py\", line 1079, in format_exception_as_a_whole\n",
      "    records = self.get_records(etb, number_of_lines_of_context, tb_offset)\n",
      "  File \"/home/jp/anaconda3/envs/my-rdkit-env/lib/python3.9/site-packages/IPython/core/ultratb.py\", line 1116, in get_records\n",
      "    traceback.print_exc(file=self.ostream)\n",
      "  File \"/home/jp/anaconda3/envs/my-rdkit-env/lib/python3.9/traceback.py\", line 163, in print_exc\n",
      "    print_exception(*sys.exc_info(), limit=limit, file=file, chain=chain)\n",
      "  File \"/home/jp/anaconda3/envs/my-rdkit-env/lib/python3.9/traceback.py\", line 105, in print_exception\n",
      "    print(line, file=file, end=\"\")\n",
      "  File \"/home/jp/anaconda3/envs/my-rdkit-env/lib/python3.9/site-packages/ipykernel/iostream.py\", line 529, in write\n",
      "    self.pub_thread.schedule(lambda: self._buffer.write(string))\n",
      "  File \"/home/jp/anaconda3/envs/my-rdkit-env/lib/python3.9/site-packages/ipykernel/iostream.py\", line 214, in schedule\n",
      "    self._event_pipe.send(b'')\n",
      "  File \"/home/jp/anaconda3/envs/my-rdkit-env/lib/python3.9/site-packages/zmq/sugar/socket.py\", line 547, in send\n",
      "    return super(Socket, self).send(data, flags=flags, copy=copy, track=track)\n",
      "  File \"zmq/backend/cython/socket.pyx\", line 718, in zmq.backend.cython.socket.Socket.send\n",
      "  File \"zmq/backend/cython/socket.pyx\", line 765, in zmq.backend.cython.socket.Socket.send\n",
      "  File \"zmq/backend/cython/socket.pyx\", line 242, in zmq.backend.cython.socket._send_copy\n",
      "  File \"zmq/backend/cython/checkrc.pxd\", line 13, in zmq.backend.cython.checkrc._check_rc\n",
      "KeyboardInterrupt\n",
      "\n",
      "During handling of the above exception, another exception occurred:\n",
      "\n",
      "Traceback (most recent call last):\n",
      "  File \"/home/jp/anaconda3/envs/my-rdkit-env/lib/python3.9/site-packages/IPython/core/interactiveshell.py\", line 2947, in _run_cell\n",
      "    return runner(coro)\n",
      "  File \"/home/jp/anaconda3/envs/my-rdkit-env/lib/python3.9/site-packages/IPython/core/async_helpers.py\", line 68, in _pseudo_sync_runner\n",
      "    coro.send(None)\n",
      "  File \"/home/jp/anaconda3/envs/my-rdkit-env/lib/python3.9/site-packages/IPython/core/interactiveshell.py\", line 3172, in run_cell_async\n",
      "    has_raised = await self.run_ast_nodes(code_ast.body, cell_name,\n",
      "  File \"/home/jp/anaconda3/envs/my-rdkit-env/lib/python3.9/site-packages/IPython/core/interactiveshell.py\", line 3383, in run_ast_nodes\n",
      "    self.showtraceback()\n",
      "  File \"/home/jp/anaconda3/envs/my-rdkit-env/lib/python3.9/site-packages/IPython/core/interactiveshell.py\", line 2079, in showtraceback\n",
      "    print('\\n' + self.get_exception_only(), file=sys.stderr)\n",
      "  File \"/home/jp/anaconda3/envs/my-rdkit-env/lib/python3.9/site-packages/IPython/core/interactiveshell.py\", line 2024, in get_exception_only\n",
      "    msg = traceback.format_exception_only(etype, value)\n",
      "  File \"/home/jp/anaconda3/envs/my-rdkit-env/lib/python3.9/traceback.py\", line 140, in format_exception_only\n",
      "    return list(TracebackException(etype, value, None).format_exception_only())\n",
      "  File \"/home/jp/anaconda3/envs/my-rdkit-env/lib/python3.9/traceback.py\", line 495, in __init__\n",
      "    context = TracebackException(\n",
      "  File \"/home/jp/anaconda3/envs/my-rdkit-env/lib/python3.9/traceback.py\", line 517, in __init__\n",
      "    self.stack = StackSummary.extract(\n",
      "  File \"/home/jp/anaconda3/envs/my-rdkit-env/lib/python3.9/traceback.py\", line 362, in extract\n",
      "    linecache.checkcache(filename)\n",
      "  File \"/home/jp/anaconda3/envs/my-rdkit-env/lib/python3.9/site-packages/IPython/core/compilerop.py\", line 185, in check_linecache_ipython\n",
      "    linecache._checkcache_ori(*args)\n",
      "  File \"/home/jp/anaconda3/envs/my-rdkit-env/lib/python3.9/linecache.py\", line 72, in checkcache\n",
      "    stat = os.stat(fullname)\n",
      "KeyboardInterrupt\n",
      "\n",
      "During handling of the above exception, another exception occurred:\n",
      "\n",
      "Traceback (most recent call last):\n",
      "  File \"/home/jp/anaconda3/envs/my-rdkit-env/lib/python3.9/site-packages/IPython/core/interactiveshell.py\", line 2064, in showtraceback\n",
      "    stb = value._render_traceback_()\n",
      "AttributeError: 'KeyboardInterrupt' object has no attribute '_render_traceback_'\n",
      "\n",
      "During handling of the above exception, another exception occurred:\n",
      "\n",
      "Traceback (most recent call last):\n",
      "  File \"/home/jp/anaconda3/envs/my-rdkit-env/lib/python3.9/site-packages/IPython/core/ultratb.py\", line 1101, in get_records\n",
      "    return _fixed_getinnerframes(etb, number_of_lines_of_context, tb_offset)\n",
      "  File \"/home/jp/anaconda3/envs/my-rdkit-env/lib/python3.9/site-packages/IPython/core/ultratb.py\", line 248, in wrapped\n",
      "    return f(*args, **kwargs)\n",
      "  File \"/home/jp/anaconda3/envs/my-rdkit-env/lib/python3.9/site-packages/IPython/core/ultratb.py\", line 281, in _fixed_getinnerframes\n",
      "    records = fix_frame_records_filenames(inspect.getinnerframes(etb, context))\n",
      "  File \"/home/jp/anaconda3/envs/my-rdkit-env/lib/python3.9/inspect.py\", line 1543, in getinnerframes\n",
      "    frameinfo = (tb.tb_frame,) + getframeinfo(tb, context)\n",
      "  File \"/home/jp/anaconda3/envs/my-rdkit-env/lib/python3.9/inspect.py\", line 1501, in getframeinfo\n",
      "    filename = getsourcefile(frame) or getfile(frame)\n",
      "  File \"/home/jp/anaconda3/envs/my-rdkit-env/lib/python3.9/inspect.py\", line 709, in getsourcefile\n",
      "    if getattr(getmodule(object, filename), '__loader__', None) is not None:\n",
      "  File \"/home/jp/anaconda3/envs/my-rdkit-env/lib/python3.9/inspect.py\", line 755, in getmodule\n",
      "    os.path.realpath(f)] = module.__name__\n",
      "  File \"/home/jp/anaconda3/envs/my-rdkit-env/lib/python3.9/posixpath.py\", line 392, in realpath\n",
      "    path, ok = _joinrealpath(filename[:0], filename, {})\n",
      "  File \"/home/jp/anaconda3/envs/my-rdkit-env/lib/python3.9/posixpath.py\", line 426, in _joinrealpath\n",
      "    if not islink(newpath):\n",
      "  File \"/home/jp/anaconda3/envs/my-rdkit-env/lib/python3.9/posixpath.py\", line 167, in islink\n",
      "    st = os.lstat(path)\n",
      "KeyboardInterrupt\n"
     ]
    }
   ],
   "source": [
    "for i in range(numThreads):\n",
    "    threads[i].join()"
   ],
   "metadata": {
    "collapsed": false,
    "pycharm": {
     "name": "#%%\n",
     "is_executing": true
    }
   }
  }
 ],
 "metadata": {
  "interpreter": {
   "hash": "6b06e9889e3a523354a6cd0ac4016416ee5473cae466bc5b57322400cc38e11c"
  },
  "kernelspec": {
   "name": "rdkit-env",
   "language": "python",
   "display_name": "RDKit Environment"
  },
  "language_info": {
   "codemirror_mode": {
    "name": "ipython",
    "version": 3
   },
   "file_extension": ".py",
   "mimetype": "text/x-python",
   "name": "python",
   "nbconvert_exporter": "python",
   "pygments_lexer": "ipython3",
   "version": "3.9.9"
  }
 },
 "nbformat": 4,
 "nbformat_minor": 0
}