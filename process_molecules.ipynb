{
 "cells": [
  {
   "cell_type": "code",
   "execution_count": 1,
   "metadata": {
    "collapsed": true
   },
   "outputs": [],
   "source": [
    "import pandas as pd\n",
    "\n",
    "from drugSimilarityTable import SimilarityTable\n",
    "from rdkit import Chem, DataStructs\n",
    "from rdkit.Chem import AllChem"
   ]
  },
  {
   "cell_type": "code",
   "execution_count": 2,
   "outputs": [
    {
     "name": "stderr",
     "output_type": "stream",
     "text": [
      "/tmp/ipykernel_120812/3243620423.py:1: DtypeWarning: Columns (4,5) have mixed types. Specify dtype option on import or set low_memory=False.\n",
      "  drugs_csv = pd.read_csv('linked_drugs.csv')\n"
     ]
    }
   ],
   "source": [
    "drugs_csv = pd.read_csv('linked_drugs.csv')"
   ],
   "metadata": {
    "collapsed": false,
    "pycharm": {
     "name": "#%%\n"
    }
   }
  },
  {
   "cell_type": "code",
   "execution_count": 3,
   "outputs": [
    {
     "name": "stdout",
     "output_type": "stream",
     "text": [
      "<class 'pandas.core.frame.DataFrame'>\n"
     ]
    }
   ],
   "source": [
    "print(type(drugs_csv))"
   ],
   "metadata": {
    "collapsed": false,
    "pycharm": {
     "name": "#%%\n"
    }
   }
  },
  {
   "cell_type": "code",
   "execution_count": 4,
   "outputs": [
    {
     "data": {
      "text/plain": "compound-id            0\nchembl-id          10883\nchembl-name      2054224\nsmiles                 0\ndrugbank-id      2084310\ndrugbank-name    2084310\ndtype: int64"
     },
     "execution_count": 4,
     "metadata": {},
     "output_type": "execute_result"
    }
   ],
   "source": [
    "drugs_csv.isnull().sum()"
   ],
   "metadata": {
    "collapsed": false,
    "pycharm": {
     "name": "#%%\n"
    }
   }
  },
  {
   "cell_type": "code",
   "execution_count": 5,
   "outputs": [
    {
     "name": "stdout",
     "output_type": "stream",
     "text": [
      "<class 'pandas.core.frame.DataFrame'>\n",
      "RangeIndex: 2095607 entries, 0 to 2095606\n",
      "Data columns (total 6 columns):\n",
      " #   Column         Dtype \n",
      "---  ------         ----- \n",
      " 0   compound-id    int64 \n",
      " 1   chembl-id      object\n",
      " 2   chembl-name    object\n",
      " 3   smiles         object\n",
      " 4   drugbank-id    object\n",
      " 5   drugbank-name  object\n",
      "dtypes: int64(1), object(5)\n",
      "memory usage: 95.9+ MB\n"
     ]
    }
   ],
   "source": [
    "drugs_csv.info()"
   ],
   "metadata": {
    "collapsed": false,
    "pycharm": {
     "name": "#%%\n"
    }
   }
  },
  {
   "cell_type": "code",
   "execution_count": 6,
   "outputs": [
    {
     "name": "stderr",
     "output_type": "stream",
     "text": [
      "RDKit WARNING: [11:46:26] WARNING: not removing hydrogen atom without neighbors\n",
      "[11:46:26] WARNING: not removing hydrogen atom without neighbors\n",
      "RDKit WARNING: [11:47:43] WARNING: not removing hydrogen atom without neighbors\n",
      "[11:47:43] WARNING: not removing hydrogen atom without neighbors\n",
      "RDKit WARNING: [11:47:47] WARNING: not removing hydrogen atom without neighbors\n",
      "[11:47:47] WARNING: not removing hydrogen atom without neighbors\n",
      "RDKit WARNING: [11:47:51] WARNING: not removing hydrogen atom without neighbors\n",
      "[11:47:51] WARNING: not removing hydrogen atom without neighbors\n",
      "RDKit WARNING: [11:50:10] WARNING: not removing hydrogen atom without neighbors\n",
      "[11:50:10] WARNING: not removing hydrogen atom without neighbors\n",
      "RDKit WARNING: [11:50:10] WARNING: not removing hydrogen atom without neighbors\n",
      "RDKit WARNING: [11:50:10] WARNING: not removing hydrogen atom without neighbors\n",
      "[11:50:10] WARNING: not removing hydrogen atom without neighbors\n",
      "[11:50:10] WARNING: not removing hydrogen atom without neighbors\n",
      "RDKit ERROR: [11:50:18] Can't kekulize mol.  Unkekulized atoms: 1 2 3 4 5 6 10 11 15 16 17 19 20 21\n",
      "[11:50:18] Can't kekulize mol.  Unkekulized atoms: 1 2 3 4 5 6 10 11 15 16 17 19 20 21\n",
      "\n",
      "RDKit ERROR: \n"
     ]
    },
    {
     "name": "stdout",
     "output_type": "stream",
     "text": [
      "Failed Smiles of Drug 1833727\n"
     ]
    },
    {
     "name": "stderr",
     "output_type": "stream",
     "text": [
      "RDKit ERROR: [11:51:53] Explicit valence for atom # 0 N, 4, is greater than permitted\n",
      "[11:51:53] Explicit valence for atom # 0 N, 4, is greater than permitted\n",
      "RDKit ERROR: [11:51:53] Explicit valence for atom # 0 N, 4, is greater than permitted\n",
      "[11:51:53] Explicit valence for atom # 0 N, 4, is greater than permitted\n",
      "RDKit ERROR: [11:51:53] Explicit valence for atom # 0 N, 4, is greater than permitted\n",
      "[11:51:53] Explicit valence for atom # 0 N, 4, is greater than permitted\n"
     ]
    },
    {
     "name": "stdout",
     "output_type": "stream",
     "text": [
      "Failed Smiles of Drug 2085105\n",
      "Failed Smiles of Drug 2085115\n",
      "Failed Smiles of Drug 2085513\n"
     ]
    },
    {
     "name": "stderr",
     "output_type": "stream",
     "text": [
      "RDKit ERROR: [11:51:53] Explicit valence for atom # 13 Cl, 5, is greater than permitted\n",
      "[11:51:53] Explicit valence for atom # 13 Cl, 5, is greater than permitted\n",
      "RDKit ERROR: [11:51:53] SMILES Parse Error: syntax error while parsing: OS(O)(O)C1=CC=C(C=C1)C-1=C2\\C=CC(=N2)\\C(=C2/N\\C(\\C=C2)=C(/C2=N/C(/C=C2)=C(\\C2=CC=C\\-1N2)C1=CC=C(C=C1)S(O)(O)O)C1=CC=C(C=C1)S([O-])([O-])[O-])\\C1=CC=C(C=C1)S(O)(O)[O-]\n",
      "[11:51:53] SMILES Parse Error: syntax error while parsing: OS(O)(O)C1=CC=C(C=C1)C-1=C2\\C=CC(=N2)\\C(=C2/N\\C(\\C=C2)=C(/C2=N/C(/C=C2)=C(\\C2=CC=C\\-1N2)C1=CC=C(C=C1)S(O)(O)O)C1=CC=C(C=C1)S([O-])([O-])[O-])\\C1=CC=C(C=C1)S(O)(O)[O-]\n",
      "RDKit ERROR: [11:51:53] SMILES Parse Error: Failed parsing SMILES 'OS(O)(O)C1=CC=C(C=C1)C-1=C2\\C=CC(=N2)\\C(=C2/N\\C(\\C=C2)=C(/C2=N/C(/C=C2)=C(\\C2=CC=C\\-1N2)C1=CC=C(C=C1)S(O)(O)O)C1=CC=C(C=C1)S([O-])([O-])[O-])\\C1=CC=C(C=C1)S(O)(O)[O-]' for input: 'OS(O)(O)C1=CC=C(C=C1)C-1=C2\\C=CC(=N2)\\C(=C2/N\\C(\\C=C2)=C(/C2=N/C(/C=C2)=C(\\C2=CC=C\\-1N2)C1=CC=C(C=C1)S(O)(O)O)C1=CC=C(C=C1)S([O-])([O-])[O-])\\C1=CC=C(C=C1)S(O)(O)[O-]'\n",
      "[11:51:53] SMILES Parse Error: Failed parsing SMILES 'OS(O)(O)C1=CC=C(C=C1)C-1=C2\\C=CC(=N2)\\C(=C2/N\\C(\\C=C2)=C(/C2=N/C(/C=C2)=C(\\C2=CC=C\\-1N2)C1=CC=C(C=C1)S(O)(O)O)C1=CC=C(C=C1)S([O-])([O-])[O-])\\C1=CC=C(C=C1)S(O)(O)[O-]' for input: 'OS(O)(O)C1=CC=C(C=C1)C-1=C2\\C=CC(=N2)\\C(=C2/N\\C(\\C=C2)=C(/C2=N/C(/C=C2)=C(\\C2=CC=C\\-1N2)C1=CC=C(C=C1)S(O)(O)O)C1=CC=C(C=C1)S([O-])([O-])[O-])\\C1=CC=C(C=C1)S(O)(O)[O-]'\n",
      "RDKit ERROR: [11:51:53] Explicit valence for atom # 19 O, 3, is greater than permitted\n",
      "[11:51:53] Explicit valence for atom # 19 O, 3, is greater than permitted\n"
     ]
    },
    {
     "name": "stdout",
     "output_type": "stream",
     "text": [
      "Failed Smiles of Drug 2086328\n",
      "Failed Smiles of Drug 2086395\n",
      "Failed Smiles of Drug 2086994\n"
     ]
    },
    {
     "name": "stderr",
     "output_type": "stream",
     "text": [
      "RDKit ERROR: [11:51:54] Explicit valence for atom # 6 N, 4, is greater than permitted\n",
      "[11:51:54] Explicit valence for atom # 6 N, 4, is greater than permitted\n",
      "RDKit ERROR: [11:51:54] Explicit valence for atom # 0 O, 3, is greater than permitted\n",
      "[11:51:54] Explicit valence for atom # 0 O, 3, is greater than permitted\n",
      "RDKit ERROR: [11:51:54] Explicit valence for atom # 3 N, 4, is greater than permitted\n",
      "[11:51:54] Explicit valence for atom # 3 N, 4, is greater than permitted\n"
     ]
    },
    {
     "name": "stdout",
     "output_type": "stream",
     "text": [
      "Failed Smiles of Drug 2087733\n",
      "Failed Smiles of Drug 2088277\n",
      "Failed Smiles of Drug 2088397\n"
     ]
    },
    {
     "name": "stderr",
     "output_type": "stream",
     "text": [
      "RDKit ERROR: [11:51:54] Explicit valence for atom # 4 F, 2, is greater than permitted\n",
      "[11:51:54] Explicit valence for atom # 4 F, 2, is greater than permitted\n"
     ]
    },
    {
     "name": "stdout",
     "output_type": "stream",
     "text": [
      "Failed Smiles of Drug 2088581\n"
     ]
    },
    {
     "name": "stderr",
     "output_type": "stream",
     "text": [
      "RDKit ERROR: [11:51:55] Explicit valence for atom # 13 Be, 3, is greater than permitted\n",
      "[11:51:55] Explicit valence for atom # 13 Be, 3, is greater than permitted\n"
     ]
    },
    {
     "name": "stdout",
     "output_type": "stream",
     "text": [
      "Failed Smiles of Drug 2091090\n"
     ]
    },
    {
     "name": "stderr",
     "output_type": "stream",
     "text": [
      "RDKit ERROR: [11:51:55] Explicit valence for atom # 84 N, 4, is greater than permitted\n",
      "[11:51:55] Explicit valence for atom # 84 N, 4, is greater than permitted\n",
      "RDKit ERROR: [11:51:55] SMILES Parse Error: syntax error while parsing: OC1=CC=CC(=C1)C-1=C2\\CCC(=N2)\\C(=C2/N\\C(\\C=C2)=C(/C2=N/C(/C=C2)=C(\\C2=CC=C\\-1N2)C1=CC(O)=CC=C1)C1=CC(O)=CC=C1)\\C1=CC(O)=CC=C1\n",
      "[11:51:55] SMILES Parse Error: syntax error while parsing: OC1=CC=CC(=C1)C-1=C2\\CCC(=N2)\\C(=C2/N\\C(\\C=C2)=C(/C2=N/C(/C=C2)=C(\\C2=CC=C\\-1N2)C1=CC(O)=CC=C1)C1=CC(O)=CC=C1)\\C1=CC(O)=CC=C1\n",
      "RDKit ERROR: [11:51:55] SMILES Parse Error: Failed parsing SMILES 'OC1=CC=CC(=C1)C-1=C2\\CCC(=N2)\\C(=C2/N\\C(\\C=C2)=C(/C2=N/C(/C=C2)=C(\\C2=CC=C\\-1N2)C1=CC(O)=CC=C1)C1=CC(O)=CC=C1)\\C1=CC(O)=CC=C1' for input: 'OC1=CC=CC(=C1)C-1=C2\\CCC(=N2)\\C(=C2/N\\C(\\C=C2)=C(/C2=N/C(/C=C2)=C(\\C2=CC=C\\-1N2)C1=CC(O)=CC=C1)C1=CC(O)=CC=C1)\\C1=CC(O)=CC=C1'\n",
      "[11:51:55] SMILES Parse Error: Failed parsing SMILES 'OC1=CC=CC(=C1)C-1=C2\\CCC(=N2)\\C(=C2/N\\C(\\C=C2)=C(/C2=N/C(/C=C2)=C(\\C2=CC=C\\-1N2)C1=CC(O)=CC=C1)C1=CC(O)=CC=C1)\\C1=CC(O)=CC=C1' for input: 'OC1=CC=CC(=C1)C-1=C2\\CCC(=N2)\\C(=C2/N\\C(\\C=C2)=C(/C2=N/C(/C=C2)=C(\\C2=CC=C\\-1N2)C1=CC(O)=CC=C1)C1=CC(O)=CC=C1)\\C1=CC(O)=CC=C1'\n"
     ]
    },
    {
     "name": "stdout",
     "output_type": "stream",
     "text": [
      "Failed Smiles of Drug 2092021\n",
      "Failed Smiles of Drug 2092388\n"
     ]
    },
    {
     "name": "stderr",
     "output_type": "stream",
     "text": [
      "RDKit ERROR: [11:51:55] Explicit valence for atom # 1 Cl, 4, is greater than permitted\n",
      "[11:51:55] Explicit valence for atom # 1 Cl, 4, is greater than permitted\n",
      "RDKit ERROR: [11:51:55] Explicit valence for atom # 0 N, 4, is greater than permitted\n",
      "[11:51:55] Explicit valence for atom # 0 N, 4, is greater than permitted\n"
     ]
    },
    {
     "name": "stdout",
     "output_type": "stream",
     "text": [
      "Failed Smiles of Drug 2093064\n",
      "Failed Smiles of Drug 2093616\n"
     ]
    },
    {
     "name": "stderr",
     "output_type": "stream",
     "text": [
      "RDKit ERROR: [11:51:56] Explicit valence for atom # 5 K, 2, is greater than permitted\n",
      "[11:51:56] Explicit valence for atom # 5 K, 2, is greater than permitted\n"
     ]
    },
    {
     "name": "stdout",
     "output_type": "stream",
     "text": [
      "Failed Smiles of Drug 2094466\n",
      "33 0.8676470588235294\n",
      "5 0.8636363636363636\n",
      "6 0.8529411764705882\n",
      "57 0.8382352941176471\n",
      "4 0.835820895522388\n",
      "59 0.8333333333333334\n",
      "18 0.8181818181818182\n",
      "1 0.7883211678832117\n",
      "7 0.7794117647058824\n",
      "11 0.7761194029850746\n"
     ]
    },
    {
     "name": "stderr",
     "output_type": "stream",
     "text": [
      "RDKit WARNING: [11:51:56] WARNING: not removing hydrogen atom without neighbors\n",
      "RDKit WARNING: [11:51:56] WARNING: not removing hydrogen atom without neighbors\n",
      "[11:51:56] WARNING: not removing hydrogen atom without neighbors\n",
      "[11:51:56] WARNING: not removing hydrogen atom without neighbors\n"
     ]
    }
   ],
   "source": [
    "for drug in drugs_csv.iterrows():\n",
    "    drug_similarity_table = SimilarityTable(drug[0])\n",
    "    drug_molecule = Chem.MolFromSmiles(drug[1]['smiles'])\n",
    "    drug_fingerprint = AllChem.GetMorganFingerprint(drug_molecule, 2)\n",
    "\n",
    "    for drug_to_test in drugs_csv.iterrows():\n",
    "        try:\n",
    "            if drug_to_test[0] != drug[0]:\n",
    "                drug_to_test_molecule = Chem.MolFromSmiles(drug_to_test[1]['smiles'])\n",
    "                drug_to_test_fingerprint = AllChem.GetMorganFingerprint(drug_to_test_molecule, 2)\n",
    "                drugs_similarity = DataStructs.DiceSimilarity(drug_fingerprint, drug_to_test_fingerprint)\n",
    "\n",
    "                drug_similarity_table.add_item(drug_to_test[0], drugs_similarity)\n",
    "        except:\n",
    "            print(\"Failed Smiles of Drug\", drug_to_test[0])\n",
    "            continue\n",
    "\n",
    "    drug_similarity_table.print_dictionary()\n",
    "    break"
   ],
   "metadata": {
    "collapsed": false,
    "pycharm": {
     "name": "#%%\n"
    }
   }
  },
  {
   "cell_type": "code",
   "execution_count": 7,
   "outputs": [
    {
     "name": "stderr",
     "output_type": "stream",
     "text": [
      "RDKit WARNING: [12:31:55] WARNING: not removing hydrogen atom without neighbors\n",
      "[12:31:55] WARNING: not removing hydrogen atom without neighbors\n",
      "RDKit WARNING: [12:33:40] WARNING: not removing hydrogen atom without neighbors\n",
      "[12:33:40] WARNING: not removing hydrogen atom without neighbors\n",
      "RDKit WARNING: [12:33:45] WARNING: not removing hydrogen atom without neighbors\n",
      "[12:33:45] WARNING: not removing hydrogen atom without neighbors\n",
      "RDKit WARNING: [12:33:51] WARNING: not removing hydrogen atom without neighbors\n",
      "[12:33:51] WARNING: not removing hydrogen atom without neighbors\n",
      "RDKit WARNING: [12:37:04] WARNING: not removing hydrogen atom without neighbors\n",
      "[12:37:04] WARNING: not removing hydrogen atom without neighbors\n",
      "RDKit WARNING: [12:37:04] WARNING: not removing hydrogen atom without neighbors\n",
      "RDKit WARNING: [12:37:04] WARNING: not removing hydrogen atom without neighbors\n",
      "[12:37:04] WARNING: not removing hydrogen atom without neighbors\n",
      "[12:37:04] WARNING: not removing hydrogen atom without neighbors\n",
      "RDKit ERROR: [12:37:16] Can't kekulize mol.  Unkekulized atoms: 1 2 3 4 5 6 10 11 15 16 17 19 20 21\n",
      "[12:37:16] Can't kekulize mol.  Unkekulized atoms: 1 2 3 4 5 6 10 11 15 16 17 19 20 21\n",
      "\n",
      "RDKit ERROR: \n"
     ]
    },
    {
     "name": "stdout",
     "output_type": "stream",
     "text": [
      "Failed Smiles of Drug 1833727\n"
     ]
    },
    {
     "name": "stderr",
     "output_type": "stream",
     "text": [
      "RDKit ERROR: [12:39:31] Explicit valence for atom # 0 N, 4, is greater than permitted\n",
      "[12:39:31] Explicit valence for atom # 0 N, 4, is greater than permitted\n",
      "RDKit ERROR: [12:39:31] Explicit valence for atom # 0 N, 4, is greater than permitted\n",
      "[12:39:31] Explicit valence for atom # 0 N, 4, is greater than permitted\n",
      "RDKit ERROR: [12:39:31] Explicit valence for atom # 0 N, 4, is greater than permitted\n",
      "[12:39:31] Explicit valence for atom # 0 N, 4, is greater than permitted\n"
     ]
    },
    {
     "name": "stdout",
     "output_type": "stream",
     "text": [
      "Failed Smiles of Drug 2085105\n",
      "Failed Smiles of Drug 2085115\n",
      "Failed Smiles of Drug 2085513\n"
     ]
    },
    {
     "name": "stderr",
     "output_type": "stream",
     "text": [
      "RDKit ERROR: [12:39:31] Explicit valence for atom # 13 Cl, 5, is greater than permitted\n",
      "[12:39:31] Explicit valence for atom # 13 Cl, 5, is greater than permitted\n",
      "RDKit ERROR: [12:39:31] SMILES Parse Error: syntax error while parsing: OS(O)(O)C1=CC=C(C=C1)C-1=C2\\C=CC(=N2)\\C(=C2/N\\C(\\C=C2)=C(/C2=N/C(/C=C2)=C(\\C2=CC=C\\-1N2)C1=CC=C(C=C1)S(O)(O)O)C1=CC=C(C=C1)S([O-])([O-])[O-])\\C1=CC=C(C=C1)S(O)(O)[O-]\n",
      "[12:39:31] SMILES Parse Error: syntax error while parsing: OS(O)(O)C1=CC=C(C=C1)C-1=C2\\C=CC(=N2)\\C(=C2/N\\C(\\C=C2)=C(/C2=N/C(/C=C2)=C(\\C2=CC=C\\-1N2)C1=CC=C(C=C1)S(O)(O)O)C1=CC=C(C=C1)S([O-])([O-])[O-])\\C1=CC=C(C=C1)S(O)(O)[O-]\n",
      "RDKit ERROR: [12:39:31] SMILES Parse Error: Failed parsing SMILES 'OS(O)(O)C1=CC=C(C=C1)C-1=C2\\C=CC(=N2)\\C(=C2/N\\C(\\C=C2)=C(/C2=N/C(/C=C2)=C(\\C2=CC=C\\-1N2)C1=CC=C(C=C1)S(O)(O)O)C1=CC=C(C=C1)S([O-])([O-])[O-])\\C1=CC=C(C=C1)S(O)(O)[O-]' for input: 'OS(O)(O)C1=CC=C(C=C1)C-1=C2\\C=CC(=N2)\\C(=C2/N\\C(\\C=C2)=C(/C2=N/C(/C=C2)=C(\\C2=CC=C\\-1N2)C1=CC=C(C=C1)S(O)(O)O)C1=CC=C(C=C1)S([O-])([O-])[O-])\\C1=CC=C(C=C1)S(O)(O)[O-]'\n",
      "[12:39:31] SMILES Parse Error: Failed parsing SMILES 'OS(O)(O)C1=CC=C(C=C1)C-1=C2\\C=CC(=N2)\\C(=C2/N\\C(\\C=C2)=C(/C2=N/C(/C=C2)=C(\\C2=CC=C\\-1N2)C1=CC=C(C=C1)S(O)(O)O)C1=CC=C(C=C1)S([O-])([O-])[O-])\\C1=CC=C(C=C1)S(O)(O)[O-]' for input: 'OS(O)(O)C1=CC=C(C=C1)C-1=C2\\C=CC(=N2)\\C(=C2/N\\C(\\C=C2)=C(/C2=N/C(/C=C2)=C(\\C2=CC=C\\-1N2)C1=CC=C(C=C1)S(O)(O)O)C1=CC=C(C=C1)S([O-])([O-])[O-])\\C1=CC=C(C=C1)S(O)(O)[O-]'\n"
     ]
    },
    {
     "name": "stdout",
     "output_type": "stream",
     "text": [
      "Failed Smiles of Drug 2086328\n",
      "Failed Smiles of Drug 2086395\n"
     ]
    },
    {
     "name": "stderr",
     "output_type": "stream",
     "text": [
      "RDKit ERROR: [12:39:31] Explicit valence for atom # 19 O, 3, is greater than permitted\n",
      "[12:39:31] Explicit valence for atom # 19 O, 3, is greater than permitted\n"
     ]
    },
    {
     "name": "stdout",
     "output_type": "stream",
     "text": [
      "Failed Smiles of Drug 2086994\n"
     ]
    },
    {
     "name": "stderr",
     "output_type": "stream",
     "text": [
      "RDKit ERROR: [12:39:32] Explicit valence for atom # 6 N, 4, is greater than permitted\n",
      "[12:39:32] Explicit valence for atom # 6 N, 4, is greater than permitted\n",
      "RDKit ERROR: [12:39:32] Explicit valence for atom # 0 O, 3, is greater than permitted\n",
      "[12:39:32] Explicit valence for atom # 0 O, 3, is greater than permitted\n",
      "RDKit ERROR: [12:39:32] Explicit valence for atom # 3 N, 4, is greater than permitted\n",
      "[12:39:32] Explicit valence for atom # 3 N, 4, is greater than permitted\n"
     ]
    },
    {
     "name": "stdout",
     "output_type": "stream",
     "text": [
      "Failed Smiles of Drug 2087733\n",
      "Failed Smiles of Drug 2088277\n",
      "Failed Smiles of Drug 2088397\n",
      "Failed Smiles of Drug 2088581\n"
     ]
    },
    {
     "name": "stderr",
     "output_type": "stream",
     "text": [
      "RDKit ERROR: [12:39:32] Explicit valence for atom # 4 F, 2, is greater than permitted\n",
      "[12:39:32] Explicit valence for atom # 4 F, 2, is greater than permitted\n",
      "RDKit ERROR: [12:39:33] Explicit valence for atom # 13 Be, 3, is greater than permitted\n",
      "[12:39:33] Explicit valence for atom # 13 Be, 3, is greater than permitted\n"
     ]
    },
    {
     "name": "stdout",
     "output_type": "stream",
     "text": [
      "Failed Smiles of Drug 2091090\n"
     ]
    },
    {
     "name": "stderr",
     "output_type": "stream",
     "text": [
      "RDKit ERROR: [12:39:33] Explicit valence for atom # 84 N, 4, is greater than permitted\n",
      "[12:39:33] Explicit valence for atom # 84 N, 4, is greater than permitted\n",
      "RDKit ERROR: [12:39:34] SMILES Parse Error: syntax error while parsing: OC1=CC=CC(=C1)C-1=C2\\CCC(=N2)\\C(=C2/N\\C(\\C=C2)=C(/C2=N/C(/C=C2)=C(\\C2=CC=C\\-1N2)C1=CC(O)=CC=C1)C1=CC(O)=CC=C1)\\C1=CC(O)=CC=C1\n",
      "[12:39:34] SMILES Parse Error: syntax error while parsing: OC1=CC=CC(=C1)C-1=C2\\CCC(=N2)\\C(=C2/N\\C(\\C=C2)=C(/C2=N/C(/C=C2)=C(\\C2=CC=C\\-1N2)C1=CC(O)=CC=C1)C1=CC(O)=CC=C1)\\C1=CC(O)=CC=C1\n",
      "RDKit ERROR: [12:39:34] SMILES Parse Error: Failed parsing SMILES 'OC1=CC=CC(=C1)C-1=C2\\CCC(=N2)\\C(=C2/N\\C(\\C=C2)=C(/C2=N/C(/C=C2)=C(\\C2=CC=C\\-1N2)C1=CC(O)=CC=C1)C1=CC(O)=CC=C1)\\C1=CC(O)=CC=C1' for input: 'OC1=CC=CC(=C1)C-1=C2\\CCC(=N2)\\C(=C2/N\\C(\\C=C2)=C(/C2=N/C(/C=C2)=C(\\C2=CC=C\\-1N2)C1=CC(O)=CC=C1)C1=CC(O)=CC=C1)\\C1=CC(O)=CC=C1'\n",
      "[12:39:34] SMILES Parse Error: Failed parsing SMILES 'OC1=CC=CC(=C1)C-1=C2\\CCC(=N2)\\C(=C2/N\\C(\\C=C2)=C(/C2=N/C(/C=C2)=C(\\C2=CC=C\\-1N2)C1=CC(O)=CC=C1)C1=CC(O)=CC=C1)\\C1=CC(O)=CC=C1' for input: 'OC1=CC=CC(=C1)C-1=C2\\CCC(=N2)\\C(=C2/N\\C(\\C=C2)=C(/C2=N/C(/C=C2)=C(\\C2=CC=C\\-1N2)C1=CC(O)=CC=C1)C1=CC(O)=CC=C1)\\C1=CC(O)=CC=C1'\n"
     ]
    },
    {
     "name": "stdout",
     "output_type": "stream",
     "text": [
      "Failed Smiles of Drug 2092021\n",
      "Failed Smiles of Drug 2092388\n"
     ]
    },
    {
     "name": "stderr",
     "output_type": "stream",
     "text": [
      "RDKit ERROR: [12:39:34] Explicit valence for atom # 1 Cl, 4, is greater than permitted\n",
      "[12:39:34] Explicit valence for atom # 1 Cl, 4, is greater than permitted\n"
     ]
    },
    {
     "name": "stdout",
     "output_type": "stream",
     "text": [
      "Failed Smiles of Drug 2093064\n"
     ]
    },
    {
     "name": "stderr",
     "output_type": "stream",
     "text": [
      "RDKit ERROR: [12:39:34] Explicit valence for atom # 0 N, 4, is greater than permitted\n",
      "[12:39:34] Explicit valence for atom # 0 N, 4, is greater than permitted\n"
     ]
    },
    {
     "name": "stdout",
     "output_type": "stream",
     "text": [
      "Failed Smiles of Drug 2093616\n"
     ]
    },
    {
     "name": "stderr",
     "output_type": "stream",
     "text": [
      "RDKit ERROR: [12:39:35] Explicit valence for atom # 5 K, 2, is greater than permitted\n",
      "[12:39:35] Explicit valence for atom # 5 K, 2, is greater than permitted\n"
     ]
    },
    {
     "name": "stdout",
     "output_type": "stream",
     "text": [
      "Failed Smiles of Drug 2094466\n",
      "33 0.8216216216216217\n",
      "5 0.7821229050279329\n",
      "57 0.7783783783783784\n",
      "4 0.7582417582417582\n",
      "6 0.7243243243243244\n",
      "1 0.7204301075268817\n",
      "59 0.6927374301675978\n",
      "18 0.6666666666666666\n",
      "7 0.6486486486486487\n",
      "11 0.6483516483516484\n"
     ]
    },
    {
     "name": "stderr",
     "output_type": "stream",
     "text": [
      "RDKit WARNING: [12:39:35] WARNING: not removing hydrogen atom without neighbors\n",
      "[12:39:35] WARNING: not removing hydrogen atom without neighbors\n",
      "RDKit WARNING: [12:39:35] WARNING: not removing hydrogen atom without neighbors\n",
      "[12:39:35] WARNING: not removing hydrogen atom without neighbors\n"
     ]
    }
   ],
   "source": [
    "for drug in drugs_csv.iterrows():\n",
    "    drug_similarity_table = SimilarityTable(drug[0])\n",
    "    drug_molecule = Chem.MolFromSmiles(drug[1]['smiles'])\n",
    "    drug_fingerprint = AllChem.GetMorganFingerprint(drug_molecule, 4)\n",
    "\n",
    "    for drug_to_test in drugs_csv.iterrows():\n",
    "        try:\n",
    "            if drug_to_test[0] != drug[0]:\n",
    "                drug_to_test_molecule = Chem.MolFromSmiles(drug_to_test[1]['smiles'])\n",
    "                drug_to_test_fingerprint = AllChem.GetMorganFingerprint(drug_to_test_molecule, 4)\n",
    "                drugs_similarity = DataStructs.DiceSimilarity(drug_fingerprint, drug_to_test_fingerprint)\n",
    "\n",
    "                drug_similarity_table.add_item(drug_to_test[0], drugs_similarity)\n",
    "        except:\n",
    "            print(\"Failed Smiles of Drug\", drug_to_test[0])\n",
    "            continue\n",
    "\n",
    "    drug_similarity_table.print_dictionary()\n",
    "    break"
   ],
   "metadata": {
    "collapsed": false,
    "pycharm": {
     "name": "#%%\n"
    }
   }
  }
 ],
 "metadata": {
  "kernelspec": {
   "name": "rdkit-env",
   "language": "python",
   "display_name": "RDKit Environment"
  },
  "language_info": {
   "codemirror_mode": {
    "name": "ipython",
    "version": 2
   },
   "file_extension": ".py",
   "mimetype": "text/x-python",
   "name": "python",
   "nbconvert_exporter": "python",
   "pygments_lexer": "ipython2",
   "version": "2.7.6"
  }
 },
 "nbformat": 4,
 "nbformat_minor": 0
}