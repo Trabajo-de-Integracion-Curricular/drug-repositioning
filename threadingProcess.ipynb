{
 "cells": [
  {
   "cell_type": "code",
   "execution_count": 10,
   "metadata": {
    "collapsed": true
   },
   "outputs": [],
   "source": [
    "import pandas as pd\n",
    "import numpy as np\n",
    "import threading\n",
    "from drugSimilarityTable import SimilarityTable\n",
    "from rdkit import Chem, DataStructs\n",
    "from rdkit.Chem import AllChem\n"
   ]
  },
  {
   "cell_type": "code",
   "execution_count": 2,
   "metadata": {
    "collapsed": false,
    "pycharm": {
     "name": "#%%\n"
    }
   },
   "outputs": [],
   "source": [
    "path_similarities = 'sanitize_smiles.csv'\n",
    "drugs_csv = pd.read_csv(path_similarities, sep=\";\")"
   ]
  },
  {
   "cell_type": "code",
   "execution_count": 3,
   "metadata": {
    "collapsed": false,
    "pycharm": {
     "name": "#%%\n"
    }
   },
   "outputs": [],
   "source": [
    "numOfThreads = 4"
   ]
  },
  {
   "cell_type": "code",
   "execution_count": 4,
   "metadata": {
    "collapsed": false,
    "pycharm": {
     "name": "#%%\n"
    }
   },
   "outputs": [],
   "source": [
    "csv_split_size = int(drugs_csv.shape[0] / numOfThreads)"
   ]
  },
  {
   "cell_type": "code",
   "execution_count": 5,
   "metadata": {
    "collapsed": false,
    "pycharm": {
     "name": "#%%\n"
    }
   },
   "outputs": [
    {
     "data": {
      "text/plain": [
       "499743"
      ]
     },
     "execution_count": 5,
     "metadata": {},
     "output_type": "execute_result"
    }
   ],
   "source": [
    "csv_split_size"
   ]
  },
  {
   "cell_type": "code",
   "execution_count": 6,
   "metadata": {
    "collapsed": false,
    "pycharm": {
     "name": "#%%\n"
    }
   },
   "outputs": [
    {
     "data": {
      "text/plain": [
       "(1000, 41)"
      ]
     },
     "execution_count": 6,
     "metadata": {},
     "output_type": "execute_result"
    }
   ],
   "source": [
    "testCSV = drugs_csv.iloc[:1000]\n",
    "testCSV.shape"
   ]
  },
  {
   "cell_type": "code",
   "execution_count": 7,
   "metadata": {
    "collapsed": false,
    "pycharm": {
     "name": "#%%\n"
    }
   },
   "outputs": [
    {
     "data": {
      "text/plain": [
       "250"
      ]
     },
     "execution_count": 7,
     "metadata": {},
     "output_type": "execute_result"
    }
   ],
   "source": [
    "testCSV_split = int( testCSV.shape[0] / numOfThreads)\n",
    "testCSV_split"
   ]
  },
  {
   "cell_type": "code",
   "execution_count": 52,
   "metadata": {
    "collapsed": false,
    "pycharm": {
     "name": "#%%\n"
    }
   },
   "outputs": [],
   "source": [
    "df1 = testCSV.iloc[:250]\n",
    "df2 = testCSV.iloc[250:500]\n",
    "df3 = testCSV.iloc[500:750]\n",
    "df4 = testCSV.iloc[750:]"
   ]
  },
  {
   "cell_type": "code",
   "execution_count": 9,
   "metadata": {
    "collapsed": false,
    "pycharm": {
     "name": "#%%\n"
    }
   },
   "outputs": [
    {
     "data": {
      "text/html": [
       "<div>\n",
       "<style scoped>\n",
       "    .dataframe tbody tr th:only-of-type {\n",
       "        vertical-align: middle;\n",
       "    }\n",
       "\n",
       "    .dataframe tbody tr th {\n",
       "        vertical-align: top;\n",
       "    }\n",
       "\n",
       "    .dataframe thead th {\n",
       "        text-align: right;\n",
       "    }\n",
       "</style>\n",
       "<table border=\"1\" class=\"dataframe\">\n",
       "  <thead>\n",
       "    <tr style=\"text-align: right;\">\n",
       "      <th></th>\n",
       "      <th>sanitize-id</th>\n",
       "      <th>smiles</th>\n",
       "      <th>0</th>\n",
       "      <th>1</th>\n",
       "      <th>2</th>\n",
       "      <th>3</th>\n",
       "      <th>4</th>\n",
       "      <th>5</th>\n",
       "      <th>6</th>\n",
       "      <th>7</th>\n",
       "      <th>...</th>\n",
       "      <th>29</th>\n",
       "      <th>30</th>\n",
       "      <th>31</th>\n",
       "      <th>32</th>\n",
       "      <th>33</th>\n",
       "      <th>34</th>\n",
       "      <th>35</th>\n",
       "      <th>36</th>\n",
       "      <th>37</th>\n",
       "      <th>38</th>\n",
       "    </tr>\n",
       "  </thead>\n",
       "  <tbody>\n",
       "    <tr>\n",
       "      <th>0</th>\n",
       "      <td>0</td>\n",
       "      <td>Cc1cc(-n2ncc(=O)[nH]c2=O)ccc1C(=O)c1ccccc1Cl</td>\n",
       "      <td>0.0</td>\n",
       "      <td>NaN</td>\n",
       "      <td>NaN</td>\n",
       "      <td>NaN</td>\n",
       "      <td>NaN</td>\n",
       "      <td>NaN</td>\n",
       "      <td>NaN</td>\n",
       "      <td>NaN</td>\n",
       "      <td>...</td>\n",
       "      <td>NaN</td>\n",
       "      <td>NaN</td>\n",
       "      <td>NaN</td>\n",
       "      <td>NaN</td>\n",
       "      <td>NaN</td>\n",
       "      <td>NaN</td>\n",
       "      <td>NaN</td>\n",
       "      <td>NaN</td>\n",
       "      <td>NaN</td>\n",
       "      <td>NaN</td>\n",
       "    </tr>\n",
       "    <tr>\n",
       "      <th>1</th>\n",
       "      <td>1</td>\n",
       "      <td>Cc1cc(-n2ncc(=O)[nH]c2=O)ccc1C(=O)c1ccc(C#N)cc1</td>\n",
       "      <td>1.0</td>\n",
       "      <td>NaN</td>\n",
       "      <td>NaN</td>\n",
       "      <td>NaN</td>\n",
       "      <td>NaN</td>\n",
       "      <td>NaN</td>\n",
       "      <td>NaN</td>\n",
       "      <td>NaN</td>\n",
       "      <td>...</td>\n",
       "      <td>NaN</td>\n",
       "      <td>NaN</td>\n",
       "      <td>NaN</td>\n",
       "      <td>NaN</td>\n",
       "      <td>NaN</td>\n",
       "      <td>NaN</td>\n",
       "      <td>NaN</td>\n",
       "      <td>NaN</td>\n",
       "      <td>NaN</td>\n",
       "      <td>NaN</td>\n",
       "    </tr>\n",
       "    <tr>\n",
       "      <th>2</th>\n",
       "      <td>2</td>\n",
       "      <td>Cc1cc(-n2ncc(=O)[nH]c2=O)cc(C)c1C(O)c1ccc(Cl)cc1</td>\n",
       "      <td>2.0</td>\n",
       "      <td>NaN</td>\n",
       "      <td>NaN</td>\n",
       "      <td>NaN</td>\n",
       "      <td>NaN</td>\n",
       "      <td>NaN</td>\n",
       "      <td>NaN</td>\n",
       "      <td>NaN</td>\n",
       "      <td>...</td>\n",
       "      <td>NaN</td>\n",
       "      <td>NaN</td>\n",
       "      <td>NaN</td>\n",
       "      <td>NaN</td>\n",
       "      <td>NaN</td>\n",
       "      <td>NaN</td>\n",
       "      <td>NaN</td>\n",
       "      <td>NaN</td>\n",
       "      <td>NaN</td>\n",
       "      <td>NaN</td>\n",
       "    </tr>\n",
       "    <tr>\n",
       "      <th>3</th>\n",
       "      <td>3</td>\n",
       "      <td>Cc1ccc(C(=O)c2ccc(-n3ncc(=O)[nH]c3=O)cc2)cc1</td>\n",
       "      <td>3.0</td>\n",
       "      <td>NaN</td>\n",
       "      <td>NaN</td>\n",
       "      <td>NaN</td>\n",
       "      <td>NaN</td>\n",
       "      <td>NaN</td>\n",
       "      <td>NaN</td>\n",
       "      <td>NaN</td>\n",
       "      <td>...</td>\n",
       "      <td>NaN</td>\n",
       "      <td>NaN</td>\n",
       "      <td>NaN</td>\n",
       "      <td>NaN</td>\n",
       "      <td>NaN</td>\n",
       "      <td>NaN</td>\n",
       "      <td>NaN</td>\n",
       "      <td>NaN</td>\n",
       "      <td>NaN</td>\n",
       "      <td>NaN</td>\n",
       "    </tr>\n",
       "    <tr>\n",
       "      <th>4</th>\n",
       "      <td>4</td>\n",
       "      <td>Cc1cc(-n2ncc(=O)[nH]c2=O)ccc1C(=O)c1ccc(Cl)cc1</td>\n",
       "      <td>4.0</td>\n",
       "      <td>NaN</td>\n",
       "      <td>NaN</td>\n",
       "      <td>NaN</td>\n",
       "      <td>NaN</td>\n",
       "      <td>NaN</td>\n",
       "      <td>NaN</td>\n",
       "      <td>NaN</td>\n",
       "      <td>...</td>\n",
       "      <td>NaN</td>\n",
       "      <td>NaN</td>\n",
       "      <td>NaN</td>\n",
       "      <td>NaN</td>\n",
       "      <td>NaN</td>\n",
       "      <td>NaN</td>\n",
       "      <td>NaN</td>\n",
       "      <td>NaN</td>\n",
       "      <td>NaN</td>\n",
       "      <td>NaN</td>\n",
       "    </tr>\n",
       "    <tr>\n",
       "      <th>...</th>\n",
       "      <td>...</td>\n",
       "      <td>...</td>\n",
       "      <td>...</td>\n",
       "      <td>...</td>\n",
       "      <td>...</td>\n",
       "      <td>...</td>\n",
       "      <td>...</td>\n",
       "      <td>...</td>\n",
       "      <td>...</td>\n",
       "      <td>...</td>\n",
       "      <td>...</td>\n",
       "      <td>...</td>\n",
       "      <td>...</td>\n",
       "      <td>...</td>\n",
       "      <td>...</td>\n",
       "      <td>...</td>\n",
       "      <td>...</td>\n",
       "      <td>...</td>\n",
       "      <td>...</td>\n",
       "      <td>...</td>\n",
       "      <td>...</td>\n",
       "    </tr>\n",
       "    <tr>\n",
       "      <th>245</th>\n",
       "      <td>245</td>\n",
       "      <td>Cn1cc(C2=C(c3cn(CCSC(=N)N)c4ccccc34)C(=O)NC2=O...</td>\n",
       "      <td>245.0</td>\n",
       "      <td>NaN</td>\n",
       "      <td>NaN</td>\n",
       "      <td>NaN</td>\n",
       "      <td>NaN</td>\n",
       "      <td>NaN</td>\n",
       "      <td>NaN</td>\n",
       "      <td>NaN</td>\n",
       "      <td>...</td>\n",
       "      <td>NaN</td>\n",
       "      <td>NaN</td>\n",
       "      <td>NaN</td>\n",
       "      <td>NaN</td>\n",
       "      <td>NaN</td>\n",
       "      <td>NaN</td>\n",
       "      <td>NaN</td>\n",
       "      <td>NaN</td>\n",
       "      <td>NaN</td>\n",
       "      <td>NaN</td>\n",
       "    </tr>\n",
       "    <tr>\n",
       "      <th>246</th>\n",
       "      <td>246</td>\n",
       "      <td>Cn1cc(C2=C(c3cn(CCCCCSC(=N)N)c4ccccc34)C(=O)NC...</td>\n",
       "      <td>246.0</td>\n",
       "      <td>NaN</td>\n",
       "      <td>NaN</td>\n",
       "      <td>NaN</td>\n",
       "      <td>NaN</td>\n",
       "      <td>NaN</td>\n",
       "      <td>NaN</td>\n",
       "      <td>NaN</td>\n",
       "      <td>...</td>\n",
       "      <td>NaN</td>\n",
       "      <td>NaN</td>\n",
       "      <td>NaN</td>\n",
       "      <td>NaN</td>\n",
       "      <td>NaN</td>\n",
       "      <td>NaN</td>\n",
       "      <td>NaN</td>\n",
       "      <td>NaN</td>\n",
       "      <td>NaN</td>\n",
       "      <td>NaN</td>\n",
       "    </tr>\n",
       "    <tr>\n",
       "      <th>247</th>\n",
       "      <td>247</td>\n",
       "      <td>Cc1ccc(Sc2cncc3sc(CO)cc23)cc1</td>\n",
       "      <td>247.0</td>\n",
       "      <td>NaN</td>\n",
       "      <td>NaN</td>\n",
       "      <td>NaN</td>\n",
       "      <td>NaN</td>\n",
       "      <td>NaN</td>\n",
       "      <td>NaN</td>\n",
       "      <td>NaN</td>\n",
       "      <td>...</td>\n",
       "      <td>NaN</td>\n",
       "      <td>NaN</td>\n",
       "      <td>NaN</td>\n",
       "      <td>NaN</td>\n",
       "      <td>NaN</td>\n",
       "      <td>NaN</td>\n",
       "      <td>NaN</td>\n",
       "      <td>NaN</td>\n",
       "      <td>NaN</td>\n",
       "      <td>NaN</td>\n",
       "    </tr>\n",
       "    <tr>\n",
       "      <th>248</th>\n",
       "      <td>248</td>\n",
       "      <td>Cc1cc(C)cc(Sc2cncc3sc(C(N)=O)cc23)c1</td>\n",
       "      <td>248.0</td>\n",
       "      <td>NaN</td>\n",
       "      <td>NaN</td>\n",
       "      <td>NaN</td>\n",
       "      <td>NaN</td>\n",
       "      <td>NaN</td>\n",
       "      <td>NaN</td>\n",
       "      <td>NaN</td>\n",
       "      <td>...</td>\n",
       "      <td>NaN</td>\n",
       "      <td>NaN</td>\n",
       "      <td>NaN</td>\n",
       "      <td>NaN</td>\n",
       "      <td>NaN</td>\n",
       "      <td>NaN</td>\n",
       "      <td>NaN</td>\n",
       "      <td>NaN</td>\n",
       "      <td>NaN</td>\n",
       "      <td>NaN</td>\n",
       "    </tr>\n",
       "    <tr>\n",
       "      <th>249</th>\n",
       "      <td>249</td>\n",
       "      <td>Cc1ccc(Sc2cncc3sc(C(N)=O)cc23)cc1C</td>\n",
       "      <td>249.0</td>\n",
       "      <td>NaN</td>\n",
       "      <td>NaN</td>\n",
       "      <td>NaN</td>\n",
       "      <td>NaN</td>\n",
       "      <td>NaN</td>\n",
       "      <td>NaN</td>\n",
       "      <td>NaN</td>\n",
       "      <td>...</td>\n",
       "      <td>NaN</td>\n",
       "      <td>NaN</td>\n",
       "      <td>NaN</td>\n",
       "      <td>NaN</td>\n",
       "      <td>NaN</td>\n",
       "      <td>NaN</td>\n",
       "      <td>NaN</td>\n",
       "      <td>NaN</td>\n",
       "      <td>NaN</td>\n",
       "      <td>NaN</td>\n",
       "    </tr>\n",
       "  </tbody>\n",
       "</table>\n",
       "<p>250 rows × 41 columns</p>\n",
       "</div>"
      ],
      "text/plain": [
       "     sanitize-id                                             smiles      0  \\\n",
       "0              0       Cc1cc(-n2ncc(=O)[nH]c2=O)ccc1C(=O)c1ccccc1Cl    0.0   \n",
       "1              1    Cc1cc(-n2ncc(=O)[nH]c2=O)ccc1C(=O)c1ccc(C#N)cc1    1.0   \n",
       "2              2   Cc1cc(-n2ncc(=O)[nH]c2=O)cc(C)c1C(O)c1ccc(Cl)cc1    2.0   \n",
       "3              3       Cc1ccc(C(=O)c2ccc(-n3ncc(=O)[nH]c3=O)cc2)cc1    3.0   \n",
       "4              4     Cc1cc(-n2ncc(=O)[nH]c2=O)ccc1C(=O)c1ccc(Cl)cc1    4.0   \n",
       "..           ...                                                ...    ...   \n",
       "245          245  Cn1cc(C2=C(c3cn(CCSC(=N)N)c4ccccc34)C(=O)NC2=O...  245.0   \n",
       "246          246  Cn1cc(C2=C(c3cn(CCCCCSC(=N)N)c4ccccc34)C(=O)NC...  246.0   \n",
       "247          247                      Cc1ccc(Sc2cncc3sc(CO)cc23)cc1  247.0   \n",
       "248          248               Cc1cc(C)cc(Sc2cncc3sc(C(N)=O)cc23)c1  248.0   \n",
       "249          249                 Cc1ccc(Sc2cncc3sc(C(N)=O)cc23)cc1C  249.0   \n",
       "\n",
       "      1   2   3   4   5   6   7  ...  29  30  31  32  33  34  35  36  37  38  \n",
       "0   NaN NaN NaN NaN NaN NaN NaN  ... NaN NaN NaN NaN NaN NaN NaN NaN NaN NaN  \n",
       "1   NaN NaN NaN NaN NaN NaN NaN  ... NaN NaN NaN NaN NaN NaN NaN NaN NaN NaN  \n",
       "2   NaN NaN NaN NaN NaN NaN NaN  ... NaN NaN NaN NaN NaN NaN NaN NaN NaN NaN  \n",
       "3   NaN NaN NaN NaN NaN NaN NaN  ... NaN NaN NaN NaN NaN NaN NaN NaN NaN NaN  \n",
       "4   NaN NaN NaN NaN NaN NaN NaN  ... NaN NaN NaN NaN NaN NaN NaN NaN NaN NaN  \n",
       "..   ..  ..  ..  ..  ..  ..  ..  ...  ..  ..  ..  ..  ..  ..  ..  ..  ..  ..  \n",
       "245 NaN NaN NaN NaN NaN NaN NaN  ... NaN NaN NaN NaN NaN NaN NaN NaN NaN NaN  \n",
       "246 NaN NaN NaN NaN NaN NaN NaN  ... NaN NaN NaN NaN NaN NaN NaN NaN NaN NaN  \n",
       "247 NaN NaN NaN NaN NaN NaN NaN  ... NaN NaN NaN NaN NaN NaN NaN NaN NaN NaN  \n",
       "248 NaN NaN NaN NaN NaN NaN NaN  ... NaN NaN NaN NaN NaN NaN NaN NaN NaN NaN  \n",
       "249 NaN NaN NaN NaN NaN NaN NaN  ... NaN NaN NaN NaN NaN NaN NaN NaN NaN NaN  \n",
       "\n",
       "[250 rows x 41 columns]"
      ]
     },
     "execution_count": 9,
     "metadata": {},
     "output_type": "execute_result"
    }
   ],
   "source": [
    "df1"
   ]
  },
  {
   "cell_type": "code",
   "execution_count": 27,
   "metadata": {
    "collapsed": false,
    "pycharm": {
     "name": "#%%\n"
    }
   },
   "outputs": [],
   "source": [
    "def threadStart(dataFrame):\n",
    "    for drug in dataFrame.iterrows():\n",
    "        # drug_id (id de la molecula actual)\n",
    "        drug_id = drug[0]\n",
    "        # drug_similarity_table (tabla de similaridad para la molecula actual)\n",
    "        drug_similarity_table = SimilarityTable(drug_id)\n",
    "        # drug_smiles (smiles de la molecula actual)\n",
    "        drug_smiles = drug[1]['smiles']\n",
    "        drug_molecule = Chem.MolFromSmiles(drug_smiles)\n",
    "        drug_fingerprint = AllChem.GetMorganFingerprint(drug_molecule, 2)\n",
    "\n",
    "        for drug_to_test in dataFrame.iterrows():\n",
    "            # drug_to_test_id (id de la molecula a comparar)\n",
    "            drug_to_test_id= drug_to_test[0]\n",
    "            try:\n",
    "                if drug_to_test_id !=drug_id:\n",
    "                    # drug_to_test_smiles (smiles de la molecula a comparar)\n",
    "                    drug_to_test_smiles = drug_to_test[1]['smiles']\n",
    "                    drug_to_test_molecule = Chem.MolFromSmiles(drug_to_test_smiles)\n",
    "                    drug_to_test_fingerprint = AllChem.GetMorganFingerprint(drug_to_test_molecule, 2)\n",
    "                    drugs_similarity = DataStructs.DiceSimilarity(drug_fingerprint, drug_to_test_fingerprint)\n",
    "\n",
    "                    drug_similarity_table.add_item(drug_to_test_id, drugs_similarity)\n",
    "            except:\n",
    "                print(\"Failed Smiles of Drug\", drug_to_test_id)\n",
    "                continue\n",
    "\n",
    "        drug_similarity_table.print_dictionary()\n",
    "        break\n",
    "    "
   ]
  },
  {
   "cell_type": "code",
   "execution_count": 60,
   "metadata": {},
   "outputs": [
    {
     "name": "stdout",
     "output_type": "stream",
     "text": [
      "33252  0.8676470588235294\n",
      "5519 0.8709677419354839\n",
      "590 0.8522727272727273\n",
      "555 0.8470588235294118\n",
      "524 0.8387096774193549\n",
      "525 0.8387096774193549\n",
      "714 0.8359788359788359\n",
      "251 0.8245614035087719\n",
      "591 0.8061224489795918\n",
      "721 0.8061224489795918\n",
      "1 0.7883211678832117\n",
      "0.8392857142857143\n",
      "316 0.8275862068965517\n",
      "251 0.8245614035087719\n",
      "276 0.8103448275862069\n",
      "275 0.8070175438596491\n",
      "277 0.8070175438596491\n",
      "274 0.8034188034188035\n",
      "1 0.7883211678832117\n",
      "313 0.7747747747747747\n",
      "263 0.7719298245614035\n",
      " 0.8636363636363636\n",
      "6 0.8529411764705882\n",
      "57 0.8382352941176471\n",
      "4 0.835820895522388\n",
      "59 0.8333333333333334\n",
      "251 0.8245614035087719\n",
      "18 0.8181818181818182\n",
      "1 0.7883211678832117\n",
      "7 0.7794117647058824\n"
     ]
    }
   ],
   "source": [
    "thread1 = threading.Thread(target = threadStart, args =(df1,))\n",
    "thread2 = threading.Thread(target = threadStart, args =(df2,))\n",
    "thread3 = threading.Thread(target = threadStart, args =(df3,))\n",
    "#thread4 = threading.Thread(target = threadStart, args =(df4,))\n",
    "\n",
    "thread1.start()\n",
    "thread2.start()\n",
    "thread3.start()\n",
    "#thread4.start()\n",
    "\n",
    "thread1.join()\n",
    "thread2.join()\n",
    "thread3.join()\n",
    "#thread4.join()"
   ]
  },
  {
   "cell_type": "code",
   "execution_count": 62,
   "metadata": {
    "collapsed": false,
    "pycharm": {
     "name": "#%%\n"
    }
   },
   "outputs": [],
   "source": [
    "dataFrames = ['0','0','0','0']\n",
    "for i in range(numOfThreads):\n",
    "    dataFrames[i] = np.split(testCSV,numOfThreads)"
   ]
  },
  {
   "cell_type": "code",
   "execution_count": 19,
   "metadata": {
    "collapsed": false,
    "pycharm": {
     "name": "#%%\n"
    }
   },
   "outputs": [
    {
     "data": {
      "text/plain": [
       "[     sanitize-id                                             smiles      0  \\\n",
       " 0              0       Cc1cc(-n2ncc(=O)[nH]c2=O)ccc1C(=O)c1ccccc1Cl    0.0   \n",
       " 1              1    Cc1cc(-n2ncc(=O)[nH]c2=O)ccc1C(=O)c1ccc(C#N)cc1    1.0   \n",
       " 2              2   Cc1cc(-n2ncc(=O)[nH]c2=O)cc(C)c1C(O)c1ccc(Cl)cc1    2.0   \n",
       " 3              3       Cc1ccc(C(=O)c2ccc(-n3ncc(=O)[nH]c3=O)cc2)cc1    3.0   \n",
       " 4              4     Cc1cc(-n2ncc(=O)[nH]c2=O)ccc1C(=O)c1ccc(Cl)cc1    4.0   \n",
       " ..           ...                                                ...    ...   \n",
       " 495          495  Cc1c(C)c2c(c(C)c1O)CCC(C)(CN(C)CCOc1ccc(/C=C3\\...  495.0   \n",
       " 496          496      COc1cc2nc(N3CCC(C(=O)NCC4CC4)CC3)nc(N)c2cc1OC  496.0   \n",
       " 497          497      CCCCNC(=O)C1CCN(c2nc(N)c3cc(OC)c(OC)cc3n2)CC1  497.0   \n",
       " 498          498      CCCCNC(=O)C1CCCN(c2nc(N)c3cc(OC)c(OC)cc3n2)C1  498.0   \n",
       " 499          499  CN/C(=C\\[N+](=O)[O-])NC1c2cc(C#N)ccc2OC(C)(C)[...  499.0   \n",
       " \n",
       "             1         2         3         4   5   6   7  ...  29  30  31  32  \\\n",
       " 0         NaN       NaN       NaN       NaN NaN NaN NaN  ... NaN NaN NaN NaN   \n",
       " 1         NaN       NaN       NaN       NaN NaN NaN NaN  ... NaN NaN NaN NaN   \n",
       " 2         NaN       NaN       NaN       NaN NaN NaN NaN  ... NaN NaN NaN NaN   \n",
       " 3         NaN       NaN       NaN       NaN NaN NaN NaN  ... NaN NaN NaN NaN   \n",
       " 4         NaN       NaN       NaN       NaN NaN NaN NaN  ... NaN NaN NaN NaN   \n",
       " ..        ...       ...       ...       ...  ..  ..  ..  ...  ..  ..  ..  ..   \n",
       " 495  486246.0  573063.0  573064.0  573066.0 NaN NaN NaN  ... NaN NaN NaN NaN   \n",
       " 496       NaN       NaN       NaN       NaN NaN NaN NaN  ... NaN NaN NaN NaN   \n",
       " 497       NaN       NaN       NaN       NaN NaN NaN NaN  ... NaN NaN NaN NaN   \n",
       " 498       NaN       NaN       NaN       NaN NaN NaN NaN  ... NaN NaN NaN NaN   \n",
       " 499       NaN       NaN       NaN       NaN NaN NaN NaN  ... NaN NaN NaN NaN   \n",
       " \n",
       "      33  34  35  36  37  38  \n",
       " 0   NaN NaN NaN NaN NaN NaN  \n",
       " 1   NaN NaN NaN NaN NaN NaN  \n",
       " 2   NaN NaN NaN NaN NaN NaN  \n",
       " 3   NaN NaN NaN NaN NaN NaN  \n",
       " 4   NaN NaN NaN NaN NaN NaN  \n",
       " ..   ..  ..  ..  ..  ..  ..  \n",
       " 495 NaN NaN NaN NaN NaN NaN  \n",
       " 496 NaN NaN NaN NaN NaN NaN  \n",
       " 497 NaN NaN NaN NaN NaN NaN  \n",
       " 498 NaN NaN NaN NaN NaN NaN  \n",
       " 499 NaN NaN NaN NaN NaN NaN  \n",
       " \n",
       " [500 rows x 41 columns],\n",
       "      sanitize-id                                             smiles       0  \\\n",
       " 500          500  C#CCN(Cc1ccc2nc(C)nc(O)c2c1)c1ccc(C(=O)NCc2nc(...   500.0   \n",
       " 501          501     COc1cc2nc(N3CCC(C(=O)NC4CCCC4)CC3)nc(N)c2cc1OC   501.0   \n",
       " 502          502        CN(C)c1cccc2c(S(=O)(=O)Nc3ncc(Cl)cn3)cccc12   502.0   \n",
       " 503          503         Cc1ccc(NS(=O)(=O)c2cccc3c(N(C)C)cccc23)nc1   503.0   \n",
       " 504          504        CC1(C)Oc2ccc(C#N)cc2C(/N=C(/N)NC#N)[C@@H]1O   504.0   \n",
       " ..           ...                                                ...     ...   \n",
       " 995          995                             NNc1ccc(S(N)(=O)=O)cc1   996.0   \n",
       " 996          996                              Nc1ccc(S(N)(=O)=O)cc1   997.0   \n",
       " 997          997           CC(C)NCC(O)COc1ccc(C[S+]([O-])CC2CC2)cc1   998.0   \n",
       " 998          998  Cc1oc(-c2ccc(C(F)(F)F)cc2)nc1COc1cccc(/C(=C/Cn...   999.0   \n",
       " 999          999  Cc1oc(-c2ccc(C(F)(F)F)cc2)nc1COc1cccc(/C(=C/Cn...  1000.0   \n",
       " \n",
       "       1   2   3   4   5   6   7  ...  29  30  31  32  33  34  35  36  37  38  \n",
       " 500 NaN NaN NaN NaN NaN NaN NaN  ... NaN NaN NaN NaN NaN NaN NaN NaN NaN NaN  \n",
       " 501 NaN NaN NaN NaN NaN NaN NaN  ... NaN NaN NaN NaN NaN NaN NaN NaN NaN NaN  \n",
       " 502 NaN NaN NaN NaN NaN NaN NaN  ... NaN NaN NaN NaN NaN NaN NaN NaN NaN NaN  \n",
       " 503 NaN NaN NaN NaN NaN NaN NaN  ... NaN NaN NaN NaN NaN NaN NaN NaN NaN NaN  \n",
       " 504 NaN NaN NaN NaN NaN NaN NaN  ... NaN NaN NaN NaN NaN NaN NaN NaN NaN NaN  \n",
       " ..   ..  ..  ..  ..  ..  ..  ..  ...  ..  ..  ..  ..  ..  ..  ..  ..  ..  ..  \n",
       " 995 NaN NaN NaN NaN NaN NaN NaN  ... NaN NaN NaN NaN NaN NaN NaN NaN NaN NaN  \n",
       " 996 NaN NaN NaN NaN NaN NaN NaN  ... NaN NaN NaN NaN NaN NaN NaN NaN NaN NaN  \n",
       " 997 NaN NaN NaN NaN NaN NaN NaN  ... NaN NaN NaN NaN NaN NaN NaN NaN NaN NaN  \n",
       " 998 NaN NaN NaN NaN NaN NaN NaN  ... NaN NaN NaN NaN NaN NaN NaN NaN NaN NaN  \n",
       " 999 NaN NaN NaN NaN NaN NaN NaN  ... NaN NaN NaN NaN NaN NaN NaN NaN NaN NaN  \n",
       " \n",
       " [500 rows x 41 columns]]"
      ]
     },
     "execution_count": 19,
     "metadata": {},
     "output_type": "execute_result"
    }
   ],
   "source": [
    "dataFrames[0]"
   ]
  }
 ],
 "metadata": {
  "kernelspec": {
   "display_name": "Python 3 (ipykernel)",
   "language": "python",
   "name": "python3"
  },
  "language_info": {
   "codemirror_mode": {
    "name": "ipython",
    "version": 3
   },
   "file_extension": ".py",
   "mimetype": "text/x-python",
   "name": "python",
   "nbconvert_exporter": "python",
   "pygments_lexer": "ipython3",
   "version": "3.9.10"
  }
 },
 "nbformat": 4,
 "nbformat_minor": 0
}
