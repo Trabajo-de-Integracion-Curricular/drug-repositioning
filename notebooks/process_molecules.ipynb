{
 "cells": [
  {
   "cell_type": "markdown",
   "metadata": {},
   "source": [
    "# Molecule processing\n",
    "**In this notebook, the processing of the molecules will be carried out in order to obtain a\n",
    "similarity table of all the molecules belonging to the chosen data set.**\n"
   ]
  },
  {
   "cell_type": "markdown",
   "source": [
    "## Import Libraries"
   ],
   "metadata": {
    "collapsed": false,
    "pycharm": {
     "name": "#%% md\n"
    }
   }
  },
  {
   "cell_type": "code",
   "execution_count": 1,
   "metadata": {},
   "outputs": [],
   "source": [
    "import pandas as pd\n",
    "import numpy as np\n",
    "import sys\n",
    "import threading\n",
    "import os\n",
    "\n",
    "from io import StringIO\n",
    "from classes.drugSimilarityTable import SimilarityTable\n",
    "from rdkit import Chem, DataStructs\n",
    "from rdkit.Chem import AllChem"
   ]
  },
  {
   "cell_type": "markdown",
   "metadata": {},
   "source": [
    "## Load the CSV File\n",
    "Read the complete file that will be used to perform the similarity comparisons"
   ]
  },
  {
   "cell_type": "code",
   "execution_count": 2,
   "metadata": {
    "collapsed": false,
    "pycharm": {
     "name": "#%%\n"
    }
   },
   "outputs": [],
   "source": [
    "path_similarities = '../data/sanitize_smiles.csv'\n",
    "columns_to_process = ['sanitize-id', 'smiles']\n",
    "data_types_dictionary = {\n",
    "    'sanitize-id': 'int',\n",
    "    'smiles': 'str'\n",
    "}"
   ]
  },
  {
   "cell_type": "code",
   "execution_count": 3,
   "outputs": [
    {
     "data": {
      "text/plain": "         sanitize-id                                             smiles\n0                  0       Cc1cc(-n2ncc(=O)[nH]c2=O)ccc1C(=O)c1ccccc1Cl\n1                  1    Cc1cc(-n2ncc(=O)[nH]c2=O)ccc1C(=O)c1ccc(C#N)cc1\n2                  2   Cc1cc(-n2ncc(=O)[nH]c2=O)cc(C)c1C(O)c1ccc(Cl)cc1\n3                  3       Cc1ccc(C(=O)c2ccc(-n3ncc(=O)[nH]c3=O)cc2)cc1\n4                  4     Cc1cc(-n2ncc(=O)[nH]c2=O)ccc1C(=O)c1ccc(Cl)cc1\n...              ...                                                ...\n1860502      1860502  NCC1=CC(=NC(OC2=CC(=CC=C2)C(=O)N2C[C@@H](O)[C@...\n1860503      1860503  CC(=O)NCC(=O)N[C@@H](CCC(N)=O)C(=O)N[C@@H](CC1...\n1860504      1860504  CC(C)C1=CC=C2N(CC3=CC=C(Cl)C=C3)C(CC(C)(C)C(O)...\n1860505      1860505  [H][C@@]1(OB(O[C@]1([H])[C@H](O)CO)[C@H](CC(C)...\n1860506      1860506      CCOC(=O)C1=CC(NCC2=CC=CC=C2)=C(NC2CCCCC2)N=C1\n\n[1860507 rows x 2 columns]",
      "text/html": "<div>\n<style scoped>\n    .dataframe tbody tr th:only-of-type {\n        vertical-align: middle;\n    }\n\n    .dataframe tbody tr th {\n        vertical-align: top;\n    }\n\n    .dataframe thead th {\n        text-align: right;\n    }\n</style>\n<table border=\"1\" class=\"dataframe\">\n  <thead>\n    <tr style=\"text-align: right;\">\n      <th></th>\n      <th>sanitize-id</th>\n      <th>smiles</th>\n    </tr>\n  </thead>\n  <tbody>\n    <tr>\n      <th>0</th>\n      <td>0</td>\n      <td>Cc1cc(-n2ncc(=O)[nH]c2=O)ccc1C(=O)c1ccccc1Cl</td>\n    </tr>\n    <tr>\n      <th>1</th>\n      <td>1</td>\n      <td>Cc1cc(-n2ncc(=O)[nH]c2=O)ccc1C(=O)c1ccc(C#N)cc1</td>\n    </tr>\n    <tr>\n      <th>2</th>\n      <td>2</td>\n      <td>Cc1cc(-n2ncc(=O)[nH]c2=O)cc(C)c1C(O)c1ccc(Cl)cc1</td>\n    </tr>\n    <tr>\n      <th>3</th>\n      <td>3</td>\n      <td>Cc1ccc(C(=O)c2ccc(-n3ncc(=O)[nH]c3=O)cc2)cc1</td>\n    </tr>\n    <tr>\n      <th>4</th>\n      <td>4</td>\n      <td>Cc1cc(-n2ncc(=O)[nH]c2=O)ccc1C(=O)c1ccc(Cl)cc1</td>\n    </tr>\n    <tr>\n      <th>...</th>\n      <td>...</td>\n      <td>...</td>\n    </tr>\n    <tr>\n      <th>1860502</th>\n      <td>1860502</td>\n      <td>NCC1=CC(=NC(OC2=CC(=CC=C2)C(=O)N2C[C@@H](O)[C@...</td>\n    </tr>\n    <tr>\n      <th>1860503</th>\n      <td>1860503</td>\n      <td>CC(=O)NCC(=O)N[C@@H](CCC(N)=O)C(=O)N[C@@H](CC1...</td>\n    </tr>\n    <tr>\n      <th>1860504</th>\n      <td>1860504</td>\n      <td>CC(C)C1=CC=C2N(CC3=CC=C(Cl)C=C3)C(CC(C)(C)C(O)...</td>\n    </tr>\n    <tr>\n      <th>1860505</th>\n      <td>1860505</td>\n      <td>[H][C@@]1(OB(O[C@]1([H])[C@H](O)CO)[C@H](CC(C)...</td>\n    </tr>\n    <tr>\n      <th>1860506</th>\n      <td>1860506</td>\n      <td>CCOC(=O)C1=CC(NCC2=CC=CC=C2)=C(NC2CCCCC2)N=C1</td>\n    </tr>\n  </tbody>\n</table>\n<p>1860507 rows × 2 columns</p>\n</div>"
     },
     "execution_count": 3,
     "metadata": {},
     "output_type": "execute_result"
    }
   ],
   "source": [
    "drugs_csv = pd.read_csv(path_similarities, usecols=columns_to_process, dtype=data_types_dictionary, sep=';')\n",
    "drugs_csv"
   ],
   "metadata": {
    "collapsed": false,
    "pycharm": {
     "name": "#%%\n"
    }
   }
  },
  {
   "cell_type": "markdown",
   "source": [
    "### Handling errors from RDKit\n",
    "Wrap the internal RDKit streams, so they go to python’s SysStdErr\n",
    "Activate the SysStdErr output to catch the outputs from the RDkit operations"
   ],
   "metadata": {
    "collapsed": false
   }
  },
  {
   "cell_type": "code",
   "execution_count": 4,
   "outputs": [],
   "source": [
    "Chem.WrapLogs()\n",
    "sio = sys.stderr = StringIO()\n",
    "failures = []"
   ],
   "metadata": {
    "collapsed": false,
    "pycharm": {
     "name": "#%%\n"
    }
   }
  },
  {
   "cell_type": "markdown",
   "metadata": {},
   "source": [
    "## Data analysis"
   ]
  },
  {
   "cell_type": "markdown",
   "metadata": {},
   "source": [
    "The null values ​​of all the data are verified, there would exist errors if any of the smiles values ​​of the compounds is null"
   ]
  },
  {
   "cell_type": "code",
   "execution_count": 5,
   "metadata": {
    "collapsed": false,
    "pycharm": {
     "name": "#%%\n"
    }
   },
   "outputs": [
    {
     "data": {
      "text/plain": "sanitize-id    0\nsmiles         1\ndtype: int64"
     },
     "execution_count": 5,
     "metadata": {},
     "output_type": "execute_result"
    }
   ],
   "source": [
    "drugs_csv.isnull().sum()"
   ]
  },
  {
   "cell_type": "markdown",
   "metadata": {},
   "source": [
    "The type of data and the names of the tables are also verified.\n"
   ]
  },
  {
   "cell_type": "code",
   "execution_count": 6,
   "metadata": {
    "collapsed": false,
    "pycharm": {
     "name": "#%%\n"
    }
   },
   "outputs": [
    {
     "name": "stdout",
     "output_type": "stream",
     "text": [
      "<class 'pandas.core.frame.DataFrame'>\n",
      "RangeIndex: 1860507 entries, 0 to 1860506\n",
      "Data columns (total 2 columns):\n",
      " #   Column       Dtype \n",
      "---  ------       ----- \n",
      " 0   sanitize-id  int64 \n",
      " 1   smiles       object\n",
      "dtypes: int64(1), object(1)\n",
      "memory usage: 28.4+ MB\n"
     ]
    }
   ],
   "source": [
    "drugs_csv.info()"
   ]
  },
  {
   "cell_type": "markdown",
   "metadata": {},
   "source": [
    "## Calculation of the similarity table\n",
    "This similarity table consists of the comparison of a molecule with all the rest of the molecules\n",
    "that belong to the database, with the aim of obtaining the top of molecules that contain the most\n",
    "similarity with that molecule."
   ]
  },
  {
   "cell_type": "markdown",
   "source": [
    "### Chunk division\n",
    "Split the main file into chunks to facilitate further processing through threads."
   ],
   "metadata": {
    "collapsed": false
   }
  },
  {
   "cell_type": "code",
   "execution_count": 12,
   "outputs": [],
   "source": [
    "numThreads = 4\n",
    "chunks_directory = '../sanitize_chunks'\n",
    "chunk_size = 100000\n",
    "path_creation_chunks = '../sanitize_chunks/chunk{}.csv'"
   ],
   "metadata": {
    "collapsed": false,
    "pycharm": {
     "name": "#%%\n"
    }
   }
  },
  {
   "cell_type": "code",
   "execution_count": 14,
   "outputs": [],
   "source": [
    "for i, chunk in enumerate(\n",
    "        pd.read_csv(path_similarities, usecols=columns_to_process, dtype=data_types_dictionary, sep=';',\n",
    "                    chunksize=chunk_size)):\n",
    "    chunk.to_csv(path_creation_chunks.format(i), index=False, sep=';')"
   ],
   "metadata": {
    "collapsed": false,
    "pycharm": {
     "name": "#%%\n"
    }
   }
  },
  {
   "cell_type": "markdown",
   "source": [
    "### Parallel processing\n",
    "Define the function to be executed by each thread within the parallel processing of the database chunks"
   ],
   "metadata": {
    "collapsed": false
   }
  },
  {
   "cell_type": "markdown",
   "source": [
    "To achieve the processing we must follow the following process:\n",
    "1. First, the value of the molecules is obtained from their \"SMILES\" found in the database.\n",
    "2. Then it is necessary to calculate the \"fingerprints\" of those molecules.\n",
    "3. Finally, it is necessary to calculate the similarity between the molecules using their fingerprints."
   ],
   "metadata": {
    "collapsed": false
   }
  },
  {
   "cell_type": "code",
   "execution_count": 15,
   "outputs": [],
   "source": [
    "def processChunkFiles(files, radius):\n",
    "    for file in files:\n",
    "        chunk_sanitize_csv = pd.read_csv(chunks_directory + '/' + file, usecols=columns_to_process,\n",
    "                                         dtype=data_types_dictionary, sep=';')\n",
    "\n",
    "        for drug in chunk_sanitize_csv.to_dict('records'):\n",
    "            drug_id = drug['sanitize-id']\n",
    "            drug_smiles = drug['smiles']\n",
    "\n",
    "            drug_similarity_table = SimilarityTable(drug_id)\n",
    "            drug_molecule = Chem.MolFromSmiles(drug_smiles)\n",
    "\n",
    "            if drug_molecule is None:\n",
    "                failures.append(drug_id, sio.getvalue())\n",
    "                sio = stderr = StringIO()\n",
    "                continue\n",
    "            else:\n",
    "                drug_fingerprint = AllChem.GetMorganFingerprint(drug_molecule, radius)\n",
    "\n",
    "                for drug_to_test in drugs_csv.to_dict('records'):\n",
    "                    drug_to_test_id = drug_to_test['sanitize-id']\n",
    "\n",
    "                    if drug_to_test_id != drug_id:\n",
    "                        drug_to_test_smiles = drug_to_test['smiles']\n",
    "                        drug_to_test_molecule = Chem.MolFromSmiles(drug_to_test_smiles)\n",
    "\n",
    "                        if drug_to_test_molecule is None:\n",
    "                            continue\n",
    "                        else:\n",
    "                            drug_to_test_fingerprint = AllChem.GetMorganFingerprint(drug_to_test_molecule, radius)\n",
    "\n",
    "                            drugs_similarity = DataStructs.TanimotoSimilarity(drug_fingerprint,\n",
    "                                                                              drug_to_test_fingerprint)\n",
    "                            drug_similarity_table.add_item(drug_to_test_id, drugs_similarity)\n",
    "\n",
    "            drug_similarity_table.save_similarity_table(radius)\n"
   ],
   "metadata": {
    "collapsed": false,
    "pycharm": {
     "name": "#%%\n"
    }
   }
  },
  {
   "cell_type": "markdown",
   "source": [
    "Load the name of the chunks files to process"
   ],
   "metadata": {
    "collapsed": false
   }
  },
  {
   "cell_type": "code",
   "execution_count": 16,
   "outputs": [
    {
     "data": {
      "text/plain": "['chunk0.csv',\n 'chunk1.csv',\n 'chunk2.csv',\n 'chunk3.csv',\n 'chunk4.csv',\n 'chunk5.csv',\n 'chunk6.csv',\n 'chunk7.csv',\n 'chunk8.csv',\n 'chunk9.csv',\n 'chunk10.csv',\n 'chunk11.csv',\n 'chunk12.csv',\n 'chunk13.csv',\n 'chunk14.csv',\n 'chunk15.csv',\n 'chunk16.csv',\n 'chunk17.csv',\n 'chunk18.csv']"
     },
     "execution_count": 16,
     "metadata": {},
     "output_type": "execute_result"
    }
   ],
   "source": [
    "chunk_files = os.listdir(chunks_directory)\n",
    "chunk_files"
   ],
   "metadata": {
    "collapsed": false,
    "pycharm": {
     "name": "#%%\n"
    }
   }
  },
  {
   "cell_type": "markdown",
   "source": [
    "Split the list of files according to the number of threads to be handled in parallel processing"
   ],
   "metadata": {
    "collapsed": false
   }
  },
  {
   "cell_type": "code",
   "execution_count": 17,
   "outputs": [
    {
     "data": {
      "text/plain": "[array(['chunk0.csv', 'chunk1.csv', 'chunk2.csv', 'chunk3.csv',\n        'chunk4.csv'], dtype='<U11'),\n array(['chunk5.csv', 'chunk6.csv', 'chunk7.csv', 'chunk8.csv',\n        'chunk9.csv'], dtype='<U11'),\n array(['chunk10.csv', 'chunk11.csv', 'chunk12.csv', 'chunk13.csv',\n        'chunk14.csv'], dtype='<U11'),\n array(['chunk15.csv', 'chunk16.csv', 'chunk17.csv', 'chunk18.csv'],\n       dtype='<U11')]"
     },
     "execution_count": 17,
     "metadata": {},
     "output_type": "execute_result"
    }
   ],
   "source": [
    "thread_files = np.array_split(chunk_files, numThreads)\n",
    "thread_files"
   ],
   "metadata": {
    "collapsed": false,
    "pycharm": {
     "name": "#%%\n"
    }
   }
  },
  {
   "cell_type": "markdown",
   "source": [
    "### Thread definition and initialization"
   ],
   "metadata": {
    "collapsed": false
   }
  },
  {
   "cell_type": "code",
   "execution_count": 18,
   "outputs": [],
   "source": [
    "threads = []\n",
    "\n",
    "for i in range(numThreads):\n",
    "    thread = threading.Thread(target=processChunkFiles, args=(thread_files[i], 2,))\n",
    "    threads.append(thread)"
   ],
   "metadata": {
    "collapsed": false,
    "pycharm": {
     "name": "#%%\n"
    }
   }
  },
  {
   "cell_type": "code",
   "execution_count": 19,
   "outputs": [],
   "source": [
    "for i in range(numThreads):\n",
    "    threads[i].start()"
   ],
   "metadata": {
    "collapsed": false,
    "pycharm": {
     "name": "#%%\n"
    }
   }
  },
  {
   "cell_type": "code",
   "execution_count": 20,
   "outputs": [
    {
     "ename": "KeyboardInterrupt",
     "evalue": "",
     "output_type": "error",
     "traceback": [
      "\u001B[0;31m---------------------------------------------------------------------------\u001B[0m",
      "\u001B[0;31mKeyboardInterrupt\u001B[0m                         Traceback (most recent call last)",
      "\u001B[0;32m/tmp/ipykernel_145467/1607152748.py\u001B[0m in \u001B[0;36m<module>\u001B[0;34m\u001B[0m\n\u001B[1;32m      1\u001B[0m \u001B[0;32mfor\u001B[0m \u001B[0mi\u001B[0m \u001B[0;32min\u001B[0m \u001B[0mrange\u001B[0m\u001B[0;34m(\u001B[0m\u001B[0mnumThreads\u001B[0m\u001B[0;34m)\u001B[0m\u001B[0;34m:\u001B[0m\u001B[0;34m\u001B[0m\u001B[0;34m\u001B[0m\u001B[0m\n\u001B[0;32m----> 2\u001B[0;31m     \u001B[0mthreads\u001B[0m\u001B[0;34m[\u001B[0m\u001B[0mi\u001B[0m\u001B[0;34m]\u001B[0m\u001B[0;34m.\u001B[0m\u001B[0mjoin\u001B[0m\u001B[0;34m(\u001B[0m\u001B[0;34m)\u001B[0m\u001B[0;34m\u001B[0m\u001B[0;34m\u001B[0m\u001B[0m\n\u001B[0m",
      "\u001B[0;32m~/anaconda3/envs/my-rdkit-env/lib/python3.9/threading.py\u001B[0m in \u001B[0;36mjoin\u001B[0;34m(self, timeout)\u001B[0m\n\u001B[1;32m   1051\u001B[0m \u001B[0;34m\u001B[0m\u001B[0m\n\u001B[1;32m   1052\u001B[0m         \u001B[0;32mif\u001B[0m \u001B[0mtimeout\u001B[0m \u001B[0;32mis\u001B[0m \u001B[0;32mNone\u001B[0m\u001B[0;34m:\u001B[0m\u001B[0;34m\u001B[0m\u001B[0;34m\u001B[0m\u001B[0m\n\u001B[0;32m-> 1053\u001B[0;31m             \u001B[0mself\u001B[0m\u001B[0;34m.\u001B[0m\u001B[0m_wait_for_tstate_lock\u001B[0m\u001B[0;34m(\u001B[0m\u001B[0;34m)\u001B[0m\u001B[0;34m\u001B[0m\u001B[0;34m\u001B[0m\u001B[0m\n\u001B[0m\u001B[1;32m   1054\u001B[0m         \u001B[0;32melse\u001B[0m\u001B[0;34m:\u001B[0m\u001B[0;34m\u001B[0m\u001B[0;34m\u001B[0m\u001B[0m\n\u001B[1;32m   1055\u001B[0m             \u001B[0;31m# the behavior of a negative timeout isn't documented, but\u001B[0m\u001B[0;34m\u001B[0m\u001B[0;34m\u001B[0m\u001B[0m\n",
      "\u001B[0;32m~/anaconda3/envs/my-rdkit-env/lib/python3.9/threading.py\u001B[0m in \u001B[0;36m_wait_for_tstate_lock\u001B[0;34m(self, block, timeout)\u001B[0m\n\u001B[1;32m   1071\u001B[0m \u001B[0;34m\u001B[0m\u001B[0m\n\u001B[1;32m   1072\u001B[0m         \u001B[0;32mtry\u001B[0m\u001B[0;34m:\u001B[0m\u001B[0;34m\u001B[0m\u001B[0;34m\u001B[0m\u001B[0m\n\u001B[0;32m-> 1073\u001B[0;31m             \u001B[0;32mif\u001B[0m \u001B[0mlock\u001B[0m\u001B[0;34m.\u001B[0m\u001B[0macquire\u001B[0m\u001B[0;34m(\u001B[0m\u001B[0mblock\u001B[0m\u001B[0;34m,\u001B[0m \u001B[0mtimeout\u001B[0m\u001B[0;34m)\u001B[0m\u001B[0;34m:\u001B[0m\u001B[0;34m\u001B[0m\u001B[0;34m\u001B[0m\u001B[0m\n\u001B[0m\u001B[1;32m   1074\u001B[0m                 \u001B[0mlock\u001B[0m\u001B[0;34m.\u001B[0m\u001B[0mrelease\u001B[0m\u001B[0;34m(\u001B[0m\u001B[0;34m)\u001B[0m\u001B[0;34m\u001B[0m\u001B[0;34m\u001B[0m\u001B[0m\n\u001B[1;32m   1075\u001B[0m                 \u001B[0mself\u001B[0m\u001B[0;34m.\u001B[0m\u001B[0m_stop\u001B[0m\u001B[0;34m(\u001B[0m\u001B[0;34m)\u001B[0m\u001B[0;34m\u001B[0m\u001B[0;34m\u001B[0m\u001B[0m\n",
      "\u001B[0;31mKeyboardInterrupt\u001B[0m: "
     ]
    }
   ],
   "source": [
    "for i in range(numThreads):\n",
    "    threads[i].join()"
   ],
   "metadata": {
    "collapsed": false,
    "pycharm": {
     "name": "#%%\n"
    }
   }
  }
 ],
 "metadata": {
  "interpreter": {
   "hash": "6b06e9889e3a523354a6cd0ac4016416ee5473cae466bc5b57322400cc38e11c"
  },
  "kernelspec": {
   "name": "rdkit-env",
   "language": "python",
   "display_name": "RDKit Environment"
  },
  "language_info": {
   "codemirror_mode": {
    "name": "ipython",
    "version": 3
   },
   "file_extension": ".py",
   "mimetype": "text/x-python",
   "name": "python",
   "nbconvert_exporter": "python",
   "pygments_lexer": "ipython3",
   "version": "3.9.9"
  }
 },
 "nbformat": 4,
 "nbformat_minor": 0
}